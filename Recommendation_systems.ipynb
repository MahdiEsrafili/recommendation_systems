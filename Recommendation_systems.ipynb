{
 "cells": [
  {
   "cell_type": "code",
   "execution_count": 12,
   "metadata": {},
   "outputs": [],
   "source": [
    "import surprise\n",
    "import pandas as pd\n",
    "import numpy as np"
   ]
  },
  {
   "cell_type": "code",
   "execution_count": 13,
   "metadata": {},
   "outputs": [],
   "source": [
    "dataset = pd.read_csv('ratings.txt', sep=' ', names = ['uid','iid','rate'])"
   ]
  },
  {
   "cell_type": "code",
   "execution_count": 15,
   "metadata": {},
   "outputs": [
    {
     "data": {
      "text/html": [
       "<div>\n",
       "<style scoped>\n",
       "    .dataframe tbody tr th:only-of-type {\n",
       "        vertical-align: middle;\n",
       "    }\n",
       "\n",
       "    .dataframe tbody tr th {\n",
       "        vertical-align: top;\n",
       "    }\n",
       "\n",
       "    .dataframe thead th {\n",
       "        text-align: right;\n",
       "    }\n",
       "</style>\n",
       "<table border=\"1\" class=\"dataframe\">\n",
       "  <thead>\n",
       "    <tr style=\"text-align: right;\">\n",
       "      <th></th>\n",
       "      <th>uid</th>\n",
       "      <th>iid</th>\n",
       "      <th>rate</th>\n",
       "    </tr>\n",
       "  </thead>\n",
       "  <tbody>\n",
       "    <tr>\n",
       "      <th>0</th>\n",
       "      <td>1</td>\n",
       "      <td>1</td>\n",
       "      <td>2.0</td>\n",
       "    </tr>\n",
       "    <tr>\n",
       "      <th>1</th>\n",
       "      <td>1</td>\n",
       "      <td>2</td>\n",
       "      <td>4.0</td>\n",
       "    </tr>\n",
       "    <tr>\n",
       "      <th>2</th>\n",
       "      <td>1</td>\n",
       "      <td>3</td>\n",
       "      <td>3.5</td>\n",
       "    </tr>\n",
       "    <tr>\n",
       "      <th>3</th>\n",
       "      <td>1</td>\n",
       "      <td>4</td>\n",
       "      <td>3.0</td>\n",
       "    </tr>\n",
       "    <tr>\n",
       "      <th>4</th>\n",
       "      <td>1</td>\n",
       "      <td>5</td>\n",
       "      <td>4.0</td>\n",
       "    </tr>\n",
       "  </tbody>\n",
       "</table>\n",
       "</div>"
      ],
      "text/plain": [
       "   uid  iid  rate\n",
       "0    1    1   2.0\n",
       "1    1    2   4.0\n",
       "2    1    3   3.5\n",
       "3    1    4   3.0\n",
       "4    1    5   4.0"
      ]
     },
     "execution_count": 15,
     "metadata": {},
     "output_type": "execute_result"
    }
   ],
   "source": [
    "dataset.head()"
   ]
  },
  {
   "cell_type": "code",
   "execution_count": 11,
   "metadata": {},
   "outputs": [],
   "source": [
    "min_rate = dataset.rate.min()\n",
    "max_rate = dataset.rate.max()"
   ]
  },
  {
   "cell_type": "code",
   "execution_count": 12,
   "metadata": {},
   "outputs": [],
   "source": [
    "reader = surprise.Reader(rating_scale=(0.5,4))\n",
    "data = surprise.Dataset.load_from_df(dataset,reader)"
   ]
  },
  {
   "cell_type": "code",
   "execution_count": 13,
   "metadata": {},
   "outputs": [],
   "source": [
    "alg = surprise.SVDpp()"
   ]
  },
  {
   "cell_type": "code",
   "execution_count": 14,
   "metadata": {},
   "outputs": [],
   "source": [
    "output = alg.fit(data.build_full_trainset())"
   ]
  },
  {
   "cell_type": "code",
   "execution_count": 33,
   "metadata": {},
   "outputs": [
    {
     "data": {
      "text/plain": [
       "Prediction(uid='50', iid='52', r_ui=None, est=3.0028030537791928, details={'was_impossible': False})"
      ]
     },
     "execution_count": 33,
     "metadata": {},
     "output_type": "execute_result"
    }
   ],
   "source": [
    "pred = alg.predict(uid='50', iid='52')\n",
    "pred"
   ]
  },
  {
   "cell_type": "code",
   "execution_count": 18,
   "metadata": {},
   "outputs": [],
   "source": [
    "all_ids = dataset.iid.unique()"
   ]
  },
  {
   "cell_type": "code",
   "execution_count": 28,
   "metadata": {},
   "outputs": [],
   "source": [
    "uid50_iids = dataset.loc[dataset.uid==50, 'iid']"
   ]
  },
  {
   "cell_type": "code",
   "execution_count": 34,
   "metadata": {},
   "outputs": [],
   "source": [
    "ids2predict = np.setdiff1d(all_ids, uid50_iids)"
   ]
  },
  {
   "cell_type": "code",
   "execution_count": 35,
   "metadata": {},
   "outputs": [
    {
     "data": {
      "text/plain": [
       "array([  14,   15,   16, ..., 2069, 2070, 2071], dtype=int64)"
      ]
     },
     "execution_count": 35,
     "metadata": {},
     "output_type": "execute_result"
    }
   ],
   "source": [
    "ids2predict"
   ]
  },
  {
   "cell_type": "code",
   "execution_count": 39,
   "metadata": {},
   "outputs": [],
   "source": [
    "testset = [[50,ids,4.] for ids in ids2predict]"
   ]
  },
  {
   "cell_type": "code",
   "execution_count": 40,
   "metadata": {},
   "outputs": [],
   "source": [
    "pred = alg.test(testset)"
   ]
  },
  {
   "cell_type": "code",
   "execution_count": 41,
   "metadata": {},
   "outputs": [
    {
     "data": {
      "text/plain": [
       "[Prediction(uid=50, iid=14, r_ui=4.0, est=3.197749373548429, details={'was_impossible': False}),\n",
       " Prediction(uid=50, iid=15, r_ui=4.0, est=3.3442616237926996, details={'was_impossible': False}),\n",
       " Prediction(uid=50, iid=16, r_ui=4.0, est=3.703790484378665, details={'was_impossible': False}),\n",
       " Prediction(uid=50, iid=18, r_ui=4.0, est=3.795865348076193, details={'was_impossible': False}),\n",
       " Prediction(uid=50, iid=19, r_ui=4.0, est=3.4775042484879326, details={'was_impossible': False}),\n",
       " Prediction(uid=50, iid=20, r_ui=4.0, est=3.370949490972873, details={'was_impossible': False}),\n",
       " Prediction(uid=50, iid=21, r_ui=4.0, est=3.3638194449987253, details={'was_impossible': False}),\n",
       " Prediction(uid=50, iid=22, r_ui=4.0, est=3.50535809065327, details={'was_impossible': False}),\n",
       " Prediction(uid=50, iid=23, r_ui=4.0, est=3.6471165251327866, details={'was_impossible': False}),\n",
       " Prediction(uid=50, iid=24, r_ui=4.0, est=3.7022263819163164, details={'was_impossible': False}),\n",
       " Prediction(uid=50, iid=25, r_ui=4.0, est=3.4749845447799794, details={'was_impossible': False}),\n",
       " Prediction(uid=50, iid=26, r_ui=4.0, est=3.740134795407241, details={'was_impossible': False}),\n",
       " Prediction(uid=50, iid=27, r_ui=4.0, est=3.8422081402179002, details={'was_impossible': False}),\n",
       " Prediction(uid=50, iid=28, r_ui=4.0, est=3.578016845626128, details={'was_impossible': False}),\n",
       " Prediction(uid=50, iid=29, r_ui=4.0, est=3.449980511231807, details={'was_impossible': False}),\n",
       " Prediction(uid=50, iid=30, r_ui=4.0, est=3.466979794597922, details={'was_impossible': False}),\n",
       " Prediction(uid=50, iid=31, r_ui=4.0, est=3.380718494335969, details={'was_impossible': False}),\n",
       " Prediction(uid=50, iid=32, r_ui=4.0, est=3.2361070730690997, details={'was_impossible': False}),\n",
       " Prediction(uid=50, iid=33, r_ui=4.0, est=3.5466881895740276, details={'was_impossible': False}),\n",
       " Prediction(uid=50, iid=34, r_ui=4.0, est=3.565712586507651, details={'was_impossible': False}),\n",
       " Prediction(uid=50, iid=35, r_ui=4.0, est=3.7598205247393213, details={'was_impossible': False}),\n",
       " Prediction(uid=50, iid=36, r_ui=4.0, est=3.23032125981135, details={'was_impossible': False}),\n",
       " Prediction(uid=50, iid=37, r_ui=4.0, est=3.517496480926925, details={'was_impossible': False}),\n",
       " Prediction(uid=50, iid=38, r_ui=4.0, est=3.4242712787183356, details={'was_impossible': False}),\n",
       " Prediction(uid=50, iid=39, r_ui=4.0, est=3.704206876970415, details={'was_impossible': False}),\n",
       " Prediction(uid=50, iid=40, r_ui=4.0, est=3.5312293498184655, details={'was_impossible': False}),\n",
       " Prediction(uid=50, iid=41, r_ui=4.0, est=3.6224837980543976, details={'was_impossible': False}),\n",
       " Prediction(uid=50, iid=42, r_ui=4.0, est=3.493238187102836, details={'was_impossible': False}),\n",
       " Prediction(uid=50, iid=43, r_ui=4.0, est=3.841528516856413, details={'was_impossible': False}),\n",
       " Prediction(uid=50, iid=44, r_ui=4.0, est=3.8435176496949737, details={'was_impossible': False}),\n",
       " Prediction(uid=50, iid=45, r_ui=4.0, est=3.4623522255723933, details={'was_impossible': False}),\n",
       " Prediction(uid=50, iid=46, r_ui=4.0, est=3.3738752932983083, details={'was_impossible': False}),\n",
       " Prediction(uid=50, iid=47, r_ui=4.0, est=3.309577599954257, details={'was_impossible': False}),\n",
       " Prediction(uid=50, iid=48, r_ui=4.0, est=3.58588955213989, details={'was_impossible': False}),\n",
       " Prediction(uid=50, iid=49, r_ui=4.0, est=3.651325949084849, details={'was_impossible': False}),\n",
       " Prediction(uid=50, iid=50, r_ui=4.0, est=3.626533443062396, details={'was_impossible': False}),\n",
       " Prediction(uid=50, iid=51, r_ui=4.0, est=3.4481317036918444, details={'was_impossible': False}),\n",
       " Prediction(uid=50, iid=52, r_ui=4.0, est=3.9736405848550116, details={'was_impossible': False}),\n",
       " Prediction(uid=50, iid=53, r_ui=4.0, est=3.7089051946753413, details={'was_impossible': False}),\n",
       " Prediction(uid=50, iid=54, r_ui=4.0, est=3.732379317786499, details={'was_impossible': False}),\n",
       " Prediction(uid=50, iid=55, r_ui=4.0, est=3.545516621835003, details={'was_impossible': False}),\n",
       " Prediction(uid=50, iid=56, r_ui=4.0, est=3.578705962790729, details={'was_impossible': False}),\n",
       " Prediction(uid=50, iid=57, r_ui=4.0, est=3.341470424564018, details={'was_impossible': False}),\n",
       " Prediction(uid=50, iid=58, r_ui=4.0, est=3.6749073303656195, details={'was_impossible': False}),\n",
       " Prediction(uid=50, iid=59, r_ui=4.0, est=3.8246322496062644, details={'was_impossible': False}),\n",
       " Prediction(uid=50, iid=60, r_ui=4.0, est=3.680760297115495, details={'was_impossible': False}),\n",
       " Prediction(uid=50, iid=61, r_ui=4.0, est=3.551116789715144, details={'was_impossible': False}),\n",
       " Prediction(uid=50, iid=62, r_ui=4.0, est=3.4833640693172723, details={'was_impossible': False}),\n",
       " Prediction(uid=50, iid=63, r_ui=4.0, est=3.2007040195948475, details={'was_impossible': False}),\n",
       " Prediction(uid=50, iid=64, r_ui=4.0, est=3.5295063064867427, details={'was_impossible': False}),\n",
       " Prediction(uid=50, iid=65, r_ui=4.0, est=3.408951280795648, details={'was_impossible': False}),\n",
       " Prediction(uid=50, iid=66, r_ui=4.0, est=3.703090847125927, details={'was_impossible': False}),\n",
       " Prediction(uid=50, iid=67, r_ui=4.0, est=3.492211834381527, details={'was_impossible': False}),\n",
       " Prediction(uid=50, iid=68, r_ui=4.0, est=4, details={'was_impossible': False}),\n",
       " Prediction(uid=50, iid=69, r_ui=4.0, est=3.8577313676014695, details={'was_impossible': False}),\n",
       " Prediction(uid=50, iid=70, r_ui=4.0, est=3.204739909764173, details={'was_impossible': False}),\n",
       " Prediction(uid=50, iid=71, r_ui=4.0, est=3.6808158714789405, details={'was_impossible': False}),\n",
       " Prediction(uid=50, iid=72, r_ui=4.0, est=3.495054739730286, details={'was_impossible': False}),\n",
       " Prediction(uid=50, iid=73, r_ui=4.0, est=3.4779427830585146, details={'was_impossible': False}),\n",
       " Prediction(uid=50, iid=74, r_ui=4.0, est=3.5889969220150593, details={'was_impossible': False}),\n",
       " Prediction(uid=50, iid=75, r_ui=4.0, est=3.562564460936129, details={'was_impossible': False}),\n",
       " Prediction(uid=50, iid=76, r_ui=4.0, est=3.2940810575229014, details={'was_impossible': False}),\n",
       " Prediction(uid=50, iid=77, r_ui=4.0, est=3.552637871883164, details={'was_impossible': False}),\n",
       " Prediction(uid=50, iid=78, r_ui=4.0, est=3.546775750337326, details={'was_impossible': False}),\n",
       " Prediction(uid=50, iid=79, r_ui=4.0, est=3.469373919620081, details={'was_impossible': False}),\n",
       " Prediction(uid=50, iid=80, r_ui=4.0, est=3.5044390626985775, details={'was_impossible': False}),\n",
       " Prediction(uid=50, iid=81, r_ui=4.0, est=3.79829118200443, details={'was_impossible': False}),\n",
       " Prediction(uid=50, iid=82, r_ui=4.0, est=3.6457275435907324, details={'was_impossible': False}),\n",
       " Prediction(uid=50, iid=83, r_ui=4.0, est=3.5925430836076804, details={'was_impossible': False}),\n",
       " Prediction(uid=50, iid=85, r_ui=4.0, est=3.8543359050099593, details={'was_impossible': False}),\n",
       " Prediction(uid=50, iid=86, r_ui=4.0, est=3.582625823382425, details={'was_impossible': False}),\n",
       " Prediction(uid=50, iid=87, r_ui=4.0, est=3.6123196627953837, details={'was_impossible': False}),\n",
       " Prediction(uid=50, iid=88, r_ui=4.0, est=3.309130904658283, details={'was_impossible': False}),\n",
       " Prediction(uid=50, iid=89, r_ui=4.0, est=3.244127526921308, details={'was_impossible': False}),\n",
       " Prediction(uid=50, iid=90, r_ui=4.0, est=3.684488782395111, details={'was_impossible': False}),\n",
       " Prediction(uid=50, iid=91, r_ui=4.0, est=3.8821561048158078, details={'was_impossible': False}),\n",
       " Prediction(uid=50, iid=92, r_ui=4.0, est=3.3053158679323595, details={'was_impossible': False}),\n",
       " Prediction(uid=50, iid=93, r_ui=4.0, est=3.573321550643061, details={'was_impossible': False}),\n",
       " Prediction(uid=50, iid=94, r_ui=4.0, est=3.604012496139199, details={'was_impossible': False}),\n",
       " Prediction(uid=50, iid=95, r_ui=4.0, est=3.7604149445509383, details={'was_impossible': False}),\n",
       " Prediction(uid=50, iid=96, r_ui=4.0, est=3.8273423094192776, details={'was_impossible': False}),\n",
       " Prediction(uid=50, iid=97, r_ui=4.0, est=3.8059570555336157, details={'was_impossible': False}),\n",
       " Prediction(uid=50, iid=98, r_ui=4.0, est=3.585240526177458, details={'was_impossible': False}),\n",
       " Prediction(uid=50, iid=99, r_ui=4.0, est=3.395545191782803, details={'was_impossible': False}),\n",
       " Prediction(uid=50, iid=100, r_ui=4.0, est=2.772146969009349, details={'was_impossible': False}),\n",
       " Prediction(uid=50, iid=101, r_ui=4.0, est=3.562643571407242, details={'was_impossible': False}),\n",
       " Prediction(uid=50, iid=102, r_ui=4.0, est=3.860084145464511, details={'was_impossible': False}),\n",
       " Prediction(uid=50, iid=103, r_ui=4.0, est=3.6453977015369237, details={'was_impossible': False}),\n",
       " Prediction(uid=50, iid=104, r_ui=4.0, est=3.376203545018986, details={'was_impossible': False}),\n",
       " Prediction(uid=50, iid=105, r_ui=4.0, est=3.6852622303502107, details={'was_impossible': False}),\n",
       " Prediction(uid=50, iid=106, r_ui=4.0, est=3.430563721355083, details={'was_impossible': False}),\n",
       " Prediction(uid=50, iid=107, r_ui=4.0, est=3.8386173064648497, details={'was_impossible': False}),\n",
       " Prediction(uid=50, iid=108, r_ui=4.0, est=3.3367198261757665, details={'was_impossible': False}),\n",
       " Prediction(uid=50, iid=109, r_ui=4.0, est=3.4797420643492782, details={'was_impossible': False}),\n",
       " Prediction(uid=50, iid=110, r_ui=4.0, est=3.7429176174157144, details={'was_impossible': False}),\n",
       " Prediction(uid=50, iid=111, r_ui=4.0, est=3.56665906400463, details={'was_impossible': False}),\n",
       " Prediction(uid=50, iid=112, r_ui=4.0, est=3.589374054359395, details={'was_impossible': False}),\n",
       " Prediction(uid=50, iid=113, r_ui=4.0, est=2.969072753308904, details={'was_impossible': False}),\n",
       " Prediction(uid=50, iid=114, r_ui=4.0, est=3.500855343573096, details={'was_impossible': False}),\n",
       " Prediction(uid=50, iid=115, r_ui=4.0, est=3.6892379125132955, details={'was_impossible': False}),\n",
       " Prediction(uid=50, iid=116, r_ui=4.0, est=3.1200119296004, details={'was_impossible': False}),\n",
       " Prediction(uid=50, iid=117, r_ui=4.0, est=3.673193961263868, details={'was_impossible': False}),\n",
       " Prediction(uid=50, iid=118, r_ui=4.0, est=3.613222053408897, details={'was_impossible': False}),\n",
       " Prediction(uid=50, iid=119, r_ui=4.0, est=3.2918529922026076, details={'was_impossible': False}),\n",
       " Prediction(uid=50, iid=120, r_ui=4.0, est=3.6099689136994404, details={'was_impossible': False}),\n",
       " Prediction(uid=50, iid=122, r_ui=4.0, est=3.4325457320573194, details={'was_impossible': False}),\n",
       " Prediction(uid=50, iid=123, r_ui=4.0, est=3.5591572344193674, details={'was_impossible': False}),\n",
       " Prediction(uid=50, iid=124, r_ui=4.0, est=3.48423085183555, details={'was_impossible': False}),\n",
       " Prediction(uid=50, iid=125, r_ui=4.0, est=3.152171717549808, details={'was_impossible': False}),\n",
       " Prediction(uid=50, iid=126, r_ui=4.0, est=4, details={'was_impossible': False}),\n",
       " Prediction(uid=50, iid=127, r_ui=4.0, est=3.4408593429254926, details={'was_impossible': False}),\n",
       " Prediction(uid=50, iid=128, r_ui=4.0, est=3.3861866379282857, details={'was_impossible': False}),\n",
       " Prediction(uid=50, iid=129, r_ui=4.0, est=3.6309222514713757, details={'was_impossible': False}),\n",
       " Prediction(uid=50, iid=130, r_ui=4.0, est=3.440492792982353, details={'was_impossible': False}),\n",
       " Prediction(uid=50, iid=131, r_ui=4.0, est=3.4912782208024296, details={'was_impossible': False}),\n",
       " Prediction(uid=50, iid=132, r_ui=4.0, est=3.7659146859003085, details={'was_impossible': False}),\n",
       " Prediction(uid=50, iid=133, r_ui=4.0, est=3.5863203943011217, details={'was_impossible': False}),\n",
       " Prediction(uid=50, iid=134, r_ui=4.0, est=3.68849970981259, details={'was_impossible': False}),\n",
       " Prediction(uid=50, iid=135, r_ui=4.0, est=3.258482947968016, details={'was_impossible': False}),\n",
       " Prediction(uid=50, iid=136, r_ui=4.0, est=3.787606184908665, details={'was_impossible': False}),\n",
       " Prediction(uid=50, iid=137, r_ui=4.0, est=3.365292138530242, details={'was_impossible': False}),\n",
       " Prediction(uid=50, iid=138, r_ui=4.0, est=3.406574805836212, details={'was_impossible': False}),\n",
       " Prediction(uid=50, iid=139, r_ui=4.0, est=3.5645747562718184, details={'was_impossible': False}),\n",
       " Prediction(uid=50, iid=140, r_ui=4.0, est=3.444567811552598, details={'was_impossible': False}),\n",
       " Prediction(uid=50, iid=141, r_ui=4.0, est=3.623564417567134, details={'was_impossible': False}),\n",
       " Prediction(uid=50, iid=142, r_ui=4.0, est=3.6867015960955847, details={'was_impossible': False}),\n",
       " Prediction(uid=50, iid=143, r_ui=4.0, est=3.6082713979853858, details={'was_impossible': False}),\n",
       " Prediction(uid=50, iid=144, r_ui=4.0, est=3.8195145977820384, details={'was_impossible': False}),\n",
       " Prediction(uid=50, iid=145, r_ui=4.0, est=3.754292605567394, details={'was_impossible': False}),\n",
       " Prediction(uid=50, iid=146, r_ui=4.0, est=3.376598650249759, details={'was_impossible': False}),\n",
       " Prediction(uid=50, iid=147, r_ui=4.0, est=3.6375015500415406, details={'was_impossible': False}),\n",
       " Prediction(uid=50, iid=148, r_ui=4.0, est=3.7261592866947737, details={'was_impossible': False}),\n",
       " Prediction(uid=50, iid=149, r_ui=4.0, est=3.3923204754283005, details={'was_impossible': False}),\n",
       " Prediction(uid=50, iid=150, r_ui=4.0, est=3.8493187146906482, details={'was_impossible': False}),\n",
       " Prediction(uid=50, iid=151, r_ui=4.0, est=3.601553759228326, details={'was_impossible': False}),\n",
       " Prediction(uid=50, iid=152, r_ui=4.0, est=3.7609498924994176, details={'was_impossible': False}),\n",
       " Prediction(uid=50, iid=153, r_ui=4.0, est=3.609488965521299, details={'was_impossible': False}),\n",
       " Prediction(uid=50, iid=154, r_ui=4.0, est=3.3943980335651833, details={'was_impossible': False}),\n",
       " Prediction(uid=50, iid=155, r_ui=4.0, est=3.5874298239666844, details={'was_impossible': False}),\n",
       " Prediction(uid=50, iid=156, r_ui=4.0, est=3.0898002091731316, details={'was_impossible': False}),\n",
       " Prediction(uid=50, iid=157, r_ui=4.0, est=3.3871338242192444, details={'was_impossible': False}),\n",
       " Prediction(uid=50, iid=158, r_ui=4.0, est=3.435821481316479, details={'was_impossible': False}),\n",
       " Prediction(uid=50, iid=159, r_ui=4.0, est=3.1449943614053075, details={'was_impossible': False}),\n",
       " Prediction(uid=50, iid=160, r_ui=4.0, est=3.573925358187565, details={'was_impossible': False}),\n",
       " Prediction(uid=50, iid=161, r_ui=4.0, est=3.477730135838895, details={'was_impossible': False}),\n",
       " Prediction(uid=50, iid=162, r_ui=4.0, est=3.681769830696171, details={'was_impossible': False}),\n",
       " Prediction(uid=50, iid=163, r_ui=4.0, est=3.4521912455146175, details={'was_impossible': False}),\n",
       " Prediction(uid=50, iid=164, r_ui=4.0, est=3.5977769851472816, details={'was_impossible': False}),\n",
       " Prediction(uid=50, iid=165, r_ui=4.0, est=3.6392575560929856, details={'was_impossible': False}),\n",
       " Prediction(uid=50, iid=166, r_ui=4.0, est=3.303221099001236, details={'was_impossible': False}),\n",
       " Prediction(uid=50, iid=167, r_ui=4.0, est=3.9198960553965394, details={'was_impossible': False}),\n",
       " Prediction(uid=50, iid=168, r_ui=4.0, est=3.600144972794863, details={'was_impossible': False}),\n",
       " Prediction(uid=50, iid=169, r_ui=4.0, est=2.8533081714132233, details={'was_impossible': False}),\n",
       " Prediction(uid=50, iid=170, r_ui=4.0, est=3.374087628700595, details={'was_impossible': False}),\n",
       " Prediction(uid=50, iid=171, r_ui=4.0, est=3.360658056360537, details={'was_impossible': False}),\n",
       " Prediction(uid=50, iid=172, r_ui=4.0, est=3.598398336738905, details={'was_impossible': False}),\n",
       " Prediction(uid=50, iid=173, r_ui=4.0, est=3.439937532168399, details={'was_impossible': False}),\n",
       " Prediction(uid=50, iid=174, r_ui=4.0, est=3.764335067245258, details={'was_impossible': False}),\n",
       " Prediction(uid=50, iid=175, r_ui=4.0, est=3.060285329926183, details={'was_impossible': False}),\n",
       " Prediction(uid=50, iid=176, r_ui=4.0, est=3.287274955739426, details={'was_impossible': False}),\n",
       " Prediction(uid=50, iid=177, r_ui=4.0, est=3.6548061968664505, details={'was_impossible': False}),\n",
       " Prediction(uid=50, iid=178, r_ui=4.0, est=3.821936272902707, details={'was_impossible': False}),\n",
       " Prediction(uid=50, iid=179, r_ui=4.0, est=3.2544893080254513, details={'was_impossible': False}),\n",
       " Prediction(uid=50, iid=180, r_ui=4.0, est=3.4686539231493216, details={'was_impossible': False}),\n",
       " Prediction(uid=50, iid=181, r_ui=4.0, est=3.8422299829565927, details={'was_impossible': False}),\n",
       " Prediction(uid=50, iid=182, r_ui=4.0, est=3.6514267433407017, details={'was_impossible': False}),\n",
       " Prediction(uid=50, iid=183, r_ui=4.0, est=3.4105469265330877, details={'was_impossible': False}),\n",
       " Prediction(uid=50, iid=184, r_ui=4.0, est=3.1222218684440937, details={'was_impossible': False}),\n",
       " Prediction(uid=50, iid=185, r_ui=4.0, est=3.5424140118835514, details={'was_impossible': False}),\n",
       " Prediction(uid=50, iid=186, r_ui=4.0, est=3.7063718271881085, details={'was_impossible': False}),\n",
       " Prediction(uid=50, iid=187, r_ui=4.0, est=3.885924150284682, details={'was_impossible': False}),\n",
       " Prediction(uid=50, iid=188, r_ui=4.0, est=3.6438330034878192, details={'was_impossible': False}),\n",
       " Prediction(uid=50, iid=189, r_ui=4.0, est=4, details={'was_impossible': False}),\n",
       " Prediction(uid=50, iid=190, r_ui=4.0, est=3.720448671636777, details={'was_impossible': False}),\n",
       " Prediction(uid=50, iid=191, r_ui=4.0, est=3.582769688037311, details={'was_impossible': False}),\n",
       " Prediction(uid=50, iid=192, r_ui=4.0, est=3.665649629744358, details={'was_impossible': False}),\n",
       " Prediction(uid=50, iid=193, r_ui=4.0, est=3.6106314940602013, details={'was_impossible': False}),\n",
       " Prediction(uid=50, iid=194, r_ui=4.0, est=3.449098644022133, details={'was_impossible': False}),\n",
       " Prediction(uid=50, iid=195, r_ui=4.0, est=3.3903493452259217, details={'was_impossible': False}),\n",
       " Prediction(uid=50, iid=196, r_ui=4.0, est=3.4955470227030636, details={'was_impossible': False}),\n",
       " Prediction(uid=50, iid=197, r_ui=4.0, est=4, details={'was_impossible': False}),\n",
       " Prediction(uid=50, iid=198, r_ui=4.0, est=3.6876846451906906, details={'was_impossible': False}),\n",
       " Prediction(uid=50, iid=199, r_ui=4.0, est=3.7567669914605784, details={'was_impossible': False}),\n",
       " Prediction(uid=50, iid=200, r_ui=4.0, est=3.368904633967378, details={'was_impossible': False}),\n",
       " Prediction(uid=50, iid=201, r_ui=4.0, est=3.516206916515081, details={'was_impossible': False}),\n",
       " Prediction(uid=50, iid=202, r_ui=4.0, est=3.735919528913379, details={'was_impossible': False}),\n",
       " Prediction(uid=50, iid=203, r_ui=4.0, est=3.343372429397802, details={'was_impossible': False}),\n",
       " Prediction(uid=50, iid=204, r_ui=4.0, est=3.5343974699415885, details={'was_impossible': False}),\n",
       " Prediction(uid=50, iid=205, r_ui=4.0, est=3.184270372632298, details={'was_impossible': False}),\n",
       " Prediction(uid=50, iid=208, r_ui=4.0, est=3.4791954568920334, details={'was_impossible': False}),\n",
       " Prediction(uid=50, iid=209, r_ui=4.0, est=3.5753294163082145, details={'was_impossible': False}),\n",
       " Prediction(uid=50, iid=210, r_ui=4.0, est=3.4758573092847542, details={'was_impossible': False}),\n",
       " Prediction(uid=50, iid=212, r_ui=4.0, est=3.372268345757134, details={'was_impossible': False}),\n",
       " Prediction(uid=50, iid=214, r_ui=4.0, est=3.2671271966944735, details={'was_impossible': False}),\n",
       " Prediction(uid=50, iid=218, r_ui=4.0, est=4, details={'was_impossible': False}),\n",
       " Prediction(uid=50, iid=221, r_ui=4.0, est=3.3272190723060318, details={'was_impossible': False}),\n",
       " Prediction(uid=50, iid=222, r_ui=4.0, est=3.727371529249879, details={'was_impossible': False}),\n",
       " Prediction(uid=50, iid=223, r_ui=4.0, est=3.7940548719894878, details={'was_impossible': False}),\n",
       " Prediction(uid=50, iid=224, r_ui=4.0, est=3.377154536613764, details={'was_impossible': False}),\n",
       " Prediction(uid=50, iid=225, r_ui=4.0, est=3.3821836867887605, details={'was_impossible': False}),\n",
       " Prediction(uid=50, iid=226, r_ui=4.0, est=3.565753006382866, details={'was_impossible': False}),\n",
       " Prediction(uid=50, iid=227, r_ui=4.0, est=3.605307964764437, details={'was_impossible': False}),\n",
       " Prediction(uid=50, iid=228, r_ui=4.0, est=3.7327468611093084, details={'was_impossible': False}),\n",
       " Prediction(uid=50, iid=229, r_ui=4.0, est=3.438870848707506, details={'was_impossible': False}),\n",
       " Prediction(uid=50, iid=230, r_ui=4.0, est=3.6543137757911577, details={'was_impossible': False}),\n",
       " Prediction(uid=50, iid=231, r_ui=4.0, est=3.3476458031125262, details={'was_impossible': False}),\n",
       " Prediction(uid=50, iid=232, r_ui=4.0, est=3.6753431177185663, details={'was_impossible': False}),\n",
       " Prediction(uid=50, iid=237, r_ui=4.0, est=3.251035979689611, details={'was_impossible': False}),\n",
       " Prediction(uid=50, iid=238, r_ui=4.0, est=3.3394611458384005, details={'was_impossible': False}),\n",
       " Prediction(uid=50, iid=240, r_ui=4.0, est=3.3699451969210807, details={'was_impossible': False}),\n",
       " Prediction(uid=50, iid=242, r_ui=4.0, est=3.992857483876345, details={'was_impossible': False}),\n",
       " Prediction(uid=50, iid=243, r_ui=4.0, est=3.3711544468243453, details={'was_impossible': False}),\n",
       " Prediction(uid=50, iid=244, r_ui=4.0, est=3.3189423935535234, details={'was_impossible': False}),\n",
       " Prediction(uid=50, iid=246, r_ui=4.0, est=3.50755343387255, details={'was_impossible': False}),\n",
       " Prediction(uid=50, iid=247, r_ui=4.0, est=3.6014322116995343, details={'was_impossible': False}),\n",
       " Prediction(uid=50, iid=248, r_ui=4.0, est=3.496791629315218, details={'was_impossible': False}),\n",
       " Prediction(uid=50, iid=249, r_ui=4.0, est=3.5023338228546215, details={'was_impossible': False}),\n",
       " Prediction(uid=50, iid=256, r_ui=4.0, est=3.5009987049977545, details={'was_impossible': False}),\n",
       " Prediction(uid=50, iid=258, r_ui=4.0, est=3.802204090014005, details={'was_impossible': False}),\n",
       " Prediction(uid=50, iid=259, r_ui=4.0, est=3.5728844305398972, details={'was_impossible': False}),\n",
       " Prediction(uid=50, iid=260, r_ui=4.0, est=3.264821612968278, details={'was_impossible': False}),\n",
       " Prediction(uid=50, iid=261, r_ui=4.0, est=3.703540231381198, details={'was_impossible': False}),\n",
       " Prediction(uid=50, iid=262, r_ui=4.0, est=3.517546588226366, details={'was_impossible': False}),\n",
       " Prediction(uid=50, iid=263, r_ui=4.0, est=3.27809084108487, details={'was_impossible': False}),\n",
       " Prediction(uid=50, iid=264, r_ui=4.0, est=3.446432902607212, details={'was_impossible': False}),\n",
       " Prediction(uid=50, iid=265, r_ui=4.0, est=3.6127951514115946, details={'was_impossible': False}),\n",
       " Prediction(uid=50, iid=266, r_ui=4.0, est=3.144263230267514, details={'was_impossible': False}),\n",
       " Prediction(uid=50, iid=267, r_ui=4.0, est=3.4376629482946717, details={'was_impossible': False}),\n",
       " Prediction(uid=50, iid=268, r_ui=4.0, est=3.77270756479506, details={'was_impossible': False}),\n",
       " Prediction(uid=50, iid=269, r_ui=4.0, est=3.7316045854513393, details={'was_impossible': False}),\n",
       " Prediction(uid=50, iid=270, r_ui=4.0, est=3.6145393459486566, details={'was_impossible': False}),\n",
       " Prediction(uid=50, iid=271, r_ui=4.0, est=3.55839973715057, details={'was_impossible': False}),\n",
       " Prediction(uid=50, iid=272, r_ui=4.0, est=3.5502637101407206, details={'was_impossible': False}),\n",
       " Prediction(uid=50, iid=273, r_ui=4.0, est=3.2994200927363764, details={'was_impossible': False}),\n",
       " Prediction(uid=50, iid=274, r_ui=4.0, est=3.2554580893523983, details={'was_impossible': False}),\n",
       " Prediction(uid=50, iid=275, r_ui=4.0, est=3.845090755492233, details={'was_impossible': False}),\n",
       " Prediction(uid=50, iid=276, r_ui=4.0, est=3.5529707385598375, details={'was_impossible': False}),\n",
       " Prediction(uid=50, iid=277, r_ui=4.0, est=3.271265624089504, details={'was_impossible': False}),\n",
       " Prediction(uid=50, iid=278, r_ui=4.0, est=3.902391017009793, details={'was_impossible': False}),\n",
       " Prediction(uid=50, iid=279, r_ui=4.0, est=3.981928028263349, details={'was_impossible': False}),\n",
       " Prediction(uid=50, iid=280, r_ui=4.0, est=3.217382260350489, details={'was_impossible': False}),\n",
       " Prediction(uid=50, iid=281, r_ui=4.0, est=3.691356313123902, details={'was_impossible': False}),\n",
       " Prediction(uid=50, iid=282, r_ui=4.0, est=3.385807722159197, details={'was_impossible': False}),\n",
       " Prediction(uid=50, iid=283, r_ui=4.0, est=3.233266296816212, details={'was_impossible': False}),\n",
       " Prediction(uid=50, iid=284, r_ui=4.0, est=3.470503341626024, details={'was_impossible': False}),\n",
       " Prediction(uid=50, iid=285, r_ui=4.0, est=3.545942115573493, details={'was_impossible': False}),\n",
       " Prediction(uid=50, iid=286, r_ui=4.0, est=4, details={'was_impossible': False}),\n",
       " Prediction(uid=50, iid=287, r_ui=4.0, est=3.5673020627262217, details={'was_impossible': False}),\n",
       " Prediction(uid=50, iid=288, r_ui=4.0, est=3.5712005962608777, details={'was_impossible': False}),\n",
       " Prediction(uid=50, iid=289, r_ui=4.0, est=3.7154827146466736, details={'was_impossible': False}),\n",
       " Prediction(uid=50, iid=290, r_ui=4.0, est=3.815993218423971, details={'was_impossible': False}),\n",
       " Prediction(uid=50, iid=291, r_ui=4.0, est=3.823318575689547, details={'was_impossible': False}),\n",
       " Prediction(uid=50, iid=292, r_ui=4.0, est=4, details={'was_impossible': False}),\n",
       " Prediction(uid=50, iid=293, r_ui=4.0, est=3.9557684601783185, details={'was_impossible': False}),\n",
       " Prediction(uid=50, iid=294, r_ui=4.0, est=3.7776617455261077, details={'was_impossible': False}),\n",
       " Prediction(uid=50, iid=295, r_ui=4.0, est=3.8240295757786007, details={'was_impossible': False}),\n",
       " Prediction(uid=50, iid=296, r_ui=4.0, est=3.5179471229599844, details={'was_impossible': False}),\n",
       " Prediction(uid=50, iid=297, r_ui=4.0, est=4, details={'was_impossible': False}),\n",
       " Prediction(uid=50, iid=298, r_ui=4.0, est=3.731667783635112, details={'was_impossible': False}),\n",
       " Prediction(uid=50, iid=299, r_ui=4.0, est=3.987371721018554, details={'was_impossible': False}),\n",
       " Prediction(uid=50, iid=300, r_ui=4.0, est=3.747810455533137, details={'was_impossible': False}),\n",
       " Prediction(uid=50, iid=301, r_ui=4.0, est=3.3168619343966266, details={'was_impossible': False}),\n",
       " Prediction(uid=50, iid=302, r_ui=4.0, est=3.835357611742146, details={'was_impossible': False}),\n",
       " Prediction(uid=50, iid=303, r_ui=4.0, est=3.629560421074618, details={'was_impossible': False}),\n",
       " Prediction(uid=50, iid=304, r_ui=4.0, est=3.8237640321951725, details={'was_impossible': False}),\n",
       " Prediction(uid=50, iid=305, r_ui=4.0, est=3.5084469776270306, details={'was_impossible': False}),\n",
       " Prediction(uid=50, iid=306, r_ui=4.0, est=3.630155568653963, details={'was_impossible': False}),\n",
       " Prediction(uid=50, iid=307, r_ui=4.0, est=4, details={'was_impossible': False}),\n",
       " Prediction(uid=50, iid=308, r_ui=4.0, est=3.853543677741514, details={'was_impossible': False}),\n",
       " Prediction(uid=50, iid=309, r_ui=4.0, est=3.9656795147843646, details={'was_impossible': False}),\n",
       " Prediction(uid=50, iid=310, r_ui=4.0, est=3.9659735866427916, details={'was_impossible': False}),\n",
       " Prediction(uid=50, iid=311, r_ui=4.0, est=3.660539314970642, details={'was_impossible': False}),\n",
       " Prediction(uid=50, iid=312, r_ui=4.0, est=3.814129848623029, details={'was_impossible': False}),\n",
       " Prediction(uid=50, iid=313, r_ui=4.0, est=3.7792540242435066, details={'was_impossible': False}),\n",
       " Prediction(uid=50, iid=314, r_ui=4.0, est=3.510195022681494, details={'was_impossible': False}),\n",
       " Prediction(uid=50, iid=315, r_ui=4.0, est=3.9322715741192638, details={'was_impossible': False}),\n",
       " Prediction(uid=50, iid=316, r_ui=4.0, est=3.9088407329937276, details={'was_impossible': False}),\n",
       " Prediction(uid=50, iid=317, r_ui=4.0, est=3.4608470680767027, details={'was_impossible': False}),\n",
       " Prediction(uid=50, iid=318, r_ui=4.0, est=4, details={'was_impossible': False}),\n",
       " Prediction(uid=50, iid=319, r_ui=4.0, est=3.8227493565085466, details={'was_impossible': False}),\n",
       " Prediction(uid=50, iid=320, r_ui=4.0, est=3.6959139199365367, details={'was_impossible': False}),\n",
       " Prediction(uid=50, iid=321, r_ui=4.0, est=3.396841080869272, details={'was_impossible': False}),\n",
       " Prediction(uid=50, iid=322, r_ui=4.0, est=3.63832042337807, details={'was_impossible': False}),\n",
       " Prediction(uid=50, iid=323, r_ui=4.0, est=3.2591408308937977, details={'was_impossible': False}),\n",
       " Prediction(uid=50, iid=324, r_ui=4.0, est=3.2908621907435665, details={'was_impossible': False}),\n",
       " Prediction(uid=50, iid=325, r_ui=4.0, est=3.5098425231771144, details={'was_impossible': False}),\n",
       " Prediction(uid=50, iid=326, r_ui=4.0, est=2.875180973907778, details={'was_impossible': False}),\n",
       " Prediction(uid=50, iid=327, r_ui=4.0, est=3.185521097032507, details={'was_impossible': False}),\n",
       " Prediction(uid=50, iid=328, r_ui=4.0, est=3.701014596225102, details={'was_impossible': False}),\n",
       " Prediction(uid=50, iid=329, r_ui=4.0, est=3.6523427082405564, details={'was_impossible': False}),\n",
       " Prediction(uid=50, iid=330, r_ui=4.0, est=3.4181325791319224, details={'was_impossible': False}),\n",
       " Prediction(uid=50, iid=331, r_ui=4.0, est=3.5369469066671466, details={'was_impossible': False}),\n",
       " Prediction(uid=50, iid=332, r_ui=4.0, est=3.772890831700891, details={'was_impossible': False}),\n",
       " Prediction(uid=50, iid=333, r_ui=4.0, est=3.386279670855761, details={'was_impossible': False}),\n",
       " Prediction(uid=50, iid=334, r_ui=4.0, est=3.5480096742677487, details={'was_impossible': False}),\n",
       " Prediction(uid=50, iid=335, r_ui=4.0, est=4, details={'was_impossible': False}),\n",
       " Prediction(uid=50, iid=336, r_ui=4.0, est=3.684854171757394, details={'was_impossible': False}),\n",
       " Prediction(uid=50, iid=337, r_ui=4.0, est=3.6412913200795085, details={'was_impossible': False}),\n",
       " Prediction(uid=50, iid=338, r_ui=4.0, est=3.7537797414864804, details={'was_impossible': False}),\n",
       " Prediction(uid=50, iid=339, r_ui=4.0, est=3.480963631212725, details={'was_impossible': False}),\n",
       " Prediction(uid=50, iid=340, r_ui=4.0, est=3.7113951308561877, details={'was_impossible': False}),\n",
       " Prediction(uid=50, iid=341, r_ui=4.0, est=3.2909094340810237, details={'was_impossible': False}),\n",
       " Prediction(uid=50, iid=342, r_ui=4.0, est=3.849647509259647, details={'was_impossible': False}),\n",
       " Prediction(uid=50, iid=343, r_ui=4.0, est=3.728472991780765, details={'was_impossible': False}),\n",
       " Prediction(uid=50, iid=344, r_ui=4.0, est=3.7734247317165783, details={'was_impossible': False}),\n",
       " Prediction(uid=50, iid=345, r_ui=4.0, est=3.676645096344978, details={'was_impossible': False}),\n",
       " Prediction(uid=50, iid=346, r_ui=4.0, est=3.5819057284334925, details={'was_impossible': False}),\n",
       " Prediction(uid=50, iid=347, r_ui=4.0, est=4, details={'was_impossible': False}),\n",
       " Prediction(uid=50, iid=348, r_ui=4.0, est=3.844667495012614, details={'was_impossible': False}),\n",
       " Prediction(uid=50, iid=349, r_ui=4.0, est=3.6634164812489116, details={'was_impossible': False}),\n",
       " Prediction(uid=50, iid=350, r_ui=4.0, est=3.449848571564943, details={'was_impossible': False}),\n",
       " Prediction(uid=50, iid=351, r_ui=4.0, est=3.1459646735482085, details={'was_impossible': False}),\n",
       " Prediction(uid=50, iid=352, r_ui=4.0, est=3.4593137715345854, details={'was_impossible': False}),\n",
       " Prediction(uid=50, iid=353, r_ui=4.0, est=3.5952247876048333, details={'was_impossible': False}),\n",
       " Prediction(uid=50, iid=354, r_ui=4.0, est=3.306375322911716, details={'was_impossible': False}),\n",
       " Prediction(uid=50, iid=355, r_ui=4.0, est=3.5910743601975836, details={'was_impossible': False}),\n",
       " Prediction(uid=50, iid=356, r_ui=4.0, est=3.3516508598550354, details={'was_impossible': False}),\n",
       " Prediction(uid=50, iid=357, r_ui=4.0, est=3.5594744246478385, details={'was_impossible': False}),\n",
       " Prediction(uid=50, iid=358, r_ui=4.0, est=3.553488753104216, details={'was_impossible': False}),\n",
       " Prediction(uid=50, iid=359, r_ui=4.0, est=3.6002171005679346, details={'was_impossible': False}),\n",
       " Prediction(uid=50, iid=360, r_ui=4.0, est=3.529730767867071, details={'was_impossible': False}),\n",
       " Prediction(uid=50, iid=361, r_ui=4.0, est=3.3204416061606628, details={'was_impossible': False}),\n",
       " Prediction(uid=50, iid=362, r_ui=4.0, est=3.727264728509658, details={'was_impossible': False}),\n",
       " Prediction(uid=50, iid=363, r_ui=4.0, est=3.98843945300847, details={'was_impossible': False}),\n",
       " Prediction(uid=50, iid=364, r_ui=4.0, est=3.1124272788615417, details={'was_impossible': False}),\n",
       " Prediction(uid=50, iid=365, r_ui=4.0, est=3.8294226217327574, details={'was_impossible': False}),\n",
       " Prediction(uid=50, iid=366, r_ui=4.0, est=3.538100771532148, details={'was_impossible': False}),\n",
       " Prediction(uid=50, iid=367, r_ui=4.0, est=3.635399736545802, details={'was_impossible': False}),\n",
       " Prediction(uid=50, iid=368, r_ui=4.0, est=3.6960392621581417, details={'was_impossible': False}),\n",
       " Prediction(uid=50, iid=369, r_ui=4.0, est=3.6615002927967595, details={'was_impossible': False}),\n",
       " Prediction(uid=50, iid=370, r_ui=4.0, est=3.5516129344670246, details={'was_impossible': False}),\n",
       " Prediction(uid=50, iid=371, r_ui=4.0, est=3.6413176570873866, details={'was_impossible': False}),\n",
       " Prediction(uid=50, iid=372, r_ui=4.0, est=3.576711802226804, details={'was_impossible': False}),\n",
       " Prediction(uid=50, iid=373, r_ui=4.0, est=3.582307102709552, details={'was_impossible': False}),\n",
       " Prediction(uid=50, iid=374, r_ui=4.0, est=3.499965455505631, details={'was_impossible': False}),\n",
       " Prediction(uid=50, iid=375, r_ui=4.0, est=3.3619145344974926, details={'was_impossible': False}),\n",
       " Prediction(uid=50, iid=376, r_ui=4.0, est=3.5251557116811902, details={'was_impossible': False}),\n",
       " Prediction(uid=50, iid=377, r_ui=4.0, est=3.7529275681818586, details={'was_impossible': False}),\n",
       " Prediction(uid=50, iid=378, r_ui=4.0, est=3.3519452767809184, details={'was_impossible': False}),\n",
       " Prediction(uid=50, iid=379, r_ui=4.0, est=3.667763535480863, details={'was_impossible': False}),\n",
       " Prediction(uid=50, iid=380, r_ui=4.0, est=3.690987192647833, details={'was_impossible': False}),\n",
       " Prediction(uid=50, iid=381, r_ui=4.0, est=3.2426563240042543, details={'was_impossible': False}),\n",
       " Prediction(uid=50, iid=382, r_ui=4.0, est=3.357612785433387, details={'was_impossible': False}),\n",
       " Prediction(uid=50, iid=383, r_ui=4.0, est=3.1593334124553643, details={'was_impossible': False}),\n",
       " Prediction(uid=50, iid=384, r_ui=4.0, est=3.7237269928093273, details={'was_impossible': False}),\n",
       " Prediction(uid=50, iid=385, r_ui=4.0, est=3.2810848372788968, details={'was_impossible': False}),\n",
       " Prediction(uid=50, iid=386, r_ui=4.0, est=3.379106319786366, details={'was_impossible': False}),\n",
       " Prediction(uid=50, iid=387, r_ui=4.0, est=3.222920433946877, details={'was_impossible': False}),\n",
       " Prediction(uid=50, iid=388, r_ui=4.0, est=3.4065183139551367, details={'was_impossible': False}),\n",
       " Prediction(uid=50, iid=389, r_ui=4.0, est=3.1201836587388154, details={'was_impossible': False}),\n",
       " Prediction(uid=50, iid=390, r_ui=4.0, est=3.5970880515625927, details={'was_impossible': False}),\n",
       " Prediction(uid=50, iid=391, r_ui=4.0, est=3.9590972617106117, details={'was_impossible': False}),\n",
       " Prediction(uid=50, iid=392, r_ui=4.0, est=3.750334070812409, details={'was_impossible': False}),\n",
       " Prediction(uid=50, iid=393, r_ui=4.0, est=3.8630281457715525, details={'was_impossible': False}),\n",
       " Prediction(uid=50, iid=394, r_ui=4.0, est=3.558634509252945, details={'was_impossible': False}),\n",
       " Prediction(uid=50, iid=395, r_ui=4.0, est=3.5888522959045845, details={'was_impossible': False}),\n",
       " Prediction(uid=50, iid=396, r_ui=4.0, est=3.7691354983002077, details={'was_impossible': False}),\n",
       " Prediction(uid=50, iid=397, r_ui=4.0, est=3.769058329866838, details={'was_impossible': False}),\n",
       " Prediction(uid=50, iid=398, r_ui=4.0, est=4, details={'was_impossible': False}),\n",
       " Prediction(uid=50, iid=399, r_ui=4.0, est=3.9180533413330187, details={'was_impossible': False}),\n",
       " Prediction(uid=50, iid=400, r_ui=4.0, est=4, details={'was_impossible': False}),\n",
       " Prediction(uid=50, iid=401, r_ui=4.0, est=3.6222802226550668, details={'was_impossible': False}),\n",
       " Prediction(uid=50, iid=402, r_ui=4.0, est=3.6803476647528215, details={'was_impossible': False}),\n",
       " Prediction(uid=50, iid=403, r_ui=4.0, est=3.538930932675491, details={'was_impossible': False}),\n",
       " Prediction(uid=50, iid=404, r_ui=4.0, est=3.516126525881159, details={'was_impossible': False}),\n",
       " Prediction(uid=50, iid=405, r_ui=4.0, est=3.893160599066931, details={'was_impossible': False}),\n",
       " Prediction(uid=50, iid=406, r_ui=4.0, est=3.8412656048693545, details={'was_impossible': False}),\n",
       " Prediction(uid=50, iid=407, r_ui=4.0, est=3.4404810546480666, details={'was_impossible': False}),\n",
       " Prediction(uid=50, iid=408, r_ui=4.0, est=4, details={'was_impossible': False}),\n",
       " Prediction(uid=50, iid=409, r_ui=4.0, est=3.3170011339533647, details={'was_impossible': False}),\n",
       " Prediction(uid=50, iid=410, r_ui=4.0, est=3.6053897404929964, details={'was_impossible': False}),\n",
       " Prediction(uid=50, iid=411, r_ui=4.0, est=3.8019121621334544, details={'was_impossible': False}),\n",
       " Prediction(uid=50, iid=412, r_ui=4.0, est=3.774646360359582, details={'was_impossible': False}),\n",
       " Prediction(uid=50, iid=413, r_ui=4.0, est=3.4828944189016027, details={'was_impossible': False}),\n",
       " Prediction(uid=50, iid=414, r_ui=4.0, est=4, details={'was_impossible': False}),\n",
       " Prediction(uid=50, iid=415, r_ui=4.0, est=3.8253027905662327, details={'was_impossible': False}),\n",
       " Prediction(uid=50, iid=416, r_ui=4.0, est=3.4690358238619656, details={'was_impossible': False}),\n",
       " Prediction(uid=50, iid=417, r_ui=4.0, est=3.7188220053149803, details={'was_impossible': False}),\n",
       " Prediction(uid=50, iid=418, r_ui=4.0, est=3.3990066953263978, details={'was_impossible': False}),\n",
       " Prediction(uid=50, iid=419, r_ui=4.0, est=3.676245029919505, details={'was_impossible': False}),\n",
       " Prediction(uid=50, iid=420, r_ui=4.0, est=3.4098777087113272, details={'was_impossible': False}),\n",
       " Prediction(uid=50, iid=421, r_ui=4.0, est=3.7063702587731355, details={'was_impossible': False}),\n",
       " Prediction(uid=50, iid=422, r_ui=4.0, est=3.363701284475282, details={'was_impossible': False}),\n",
       " Prediction(uid=50, iid=423, r_ui=4.0, est=3.083667503783764, details={'was_impossible': False}),\n",
       " Prediction(uid=50, iid=424, r_ui=4.0, est=3.6246178248157124, details={'was_impossible': False}),\n",
       " Prediction(uid=50, iid=425, r_ui=4.0, est=4, details={'was_impossible': False}),\n",
       " Prediction(uid=50, iid=426, r_ui=4.0, est=3.623029275340854, details={'was_impossible': False}),\n",
       " Prediction(uid=50, iid=427, r_ui=4.0, est=3.8055229108419093, details={'was_impossible': False}),\n",
       " Prediction(uid=50, iid=428, r_ui=4.0, est=3.3031665260179444, details={'was_impossible': False}),\n",
       " Prediction(uid=50, iid=429, r_ui=4.0, est=3.577079769573994, details={'was_impossible': False}),\n",
       " Prediction(uid=50, iid=430, r_ui=4.0, est=3.442691057152006, details={'was_impossible': False}),\n",
       " Prediction(uid=50, iid=431, r_ui=4.0, est=3.9439940254042414, details={'was_impossible': False}),\n",
       " Prediction(uid=50, iid=432, r_ui=4.0, est=4, details={'was_impossible': False}),\n",
       " Prediction(uid=50, iid=433, r_ui=4.0, est=3.3424092299802624, details={'was_impossible': False}),\n",
       " Prediction(uid=50, iid=434, r_ui=4.0, est=3.8145615217742117, details={'was_impossible': False}),\n",
       " Prediction(uid=50, iid=435, r_ui=4.0, est=3.9282521884254984, details={'was_impossible': False}),\n",
       " Prediction(uid=50, iid=436, r_ui=4.0, est=3.6207272321600823, details={'was_impossible': False}),\n",
       " Prediction(uid=50, iid=437, r_ui=4.0, est=3.377558312815866, details={'was_impossible': False}),\n",
       " Prediction(uid=50, iid=438, r_ui=4.0, est=3.5181702483241213, details={'was_impossible': False}),\n",
       " Prediction(uid=50, iid=439, r_ui=4.0, est=3.507232148256229, details={'was_impossible': False}),\n",
       " Prediction(uid=50, iid=440, r_ui=4.0, est=3.5949130189576572, details={'was_impossible': False}),\n",
       " Prediction(uid=50, iid=441, r_ui=4.0, est=2.9663670028181763, details={'was_impossible': False}),\n",
       " Prediction(uid=50, iid=442, r_ui=4.0, est=3.3853496013452045, details={'was_impossible': False}),\n",
       " Prediction(uid=50, iid=443, r_ui=4.0, est=3.670615555217347, details={'was_impossible': False}),\n",
       " Prediction(uid=50, iid=444, r_ui=4.0, est=3.558868433411793, details={'was_impossible': False}),\n",
       " Prediction(uid=50, iid=445, r_ui=4.0, est=3.3100954359940236, details={'was_impossible': False}),\n",
       " Prediction(uid=50, iid=446, r_ui=4.0, est=4, details={'was_impossible': False}),\n",
       " Prediction(uid=50, iid=447, r_ui=4.0, est=3.6664066905906103, details={'was_impossible': False}),\n",
       " Prediction(uid=50, iid=448, r_ui=4.0, est=3.594586235465684, details={'was_impossible': False}),\n",
       " Prediction(uid=50, iid=449, r_ui=4.0, est=3.2467844035353655, details={'was_impossible': False}),\n",
       " Prediction(uid=50, iid=450, r_ui=4.0, est=3.3959848942022406, details={'was_impossible': False}),\n",
       " Prediction(uid=50, iid=451, r_ui=4.0, est=3.8646858101565833, details={'was_impossible': False}),\n",
       " Prediction(uid=50, iid=452, r_ui=4.0, est=3.286317502042392, details={'was_impossible': False}),\n",
       " Prediction(uid=50, iid=453, r_ui=4.0, est=2.9268778289999733, details={'was_impossible': False}),\n",
       " Prediction(uid=50, iid=454, r_ui=4.0, est=3.5363004221076304, details={'was_impossible': False}),\n",
       " Prediction(uid=50, iid=455, r_ui=4.0, est=3.7765791245726965, details={'was_impossible': False}),\n",
       " Prediction(uid=50, iid=456, r_ui=4.0, est=3.967808223948706, details={'was_impossible': False}),\n",
       " Prediction(uid=50, iid=457, r_ui=4.0, est=3.4868768108511308, details={'was_impossible': False}),\n",
       " Prediction(uid=50, iid=458, r_ui=4.0, est=3.8585050945452846, details={'was_impossible': False}),\n",
       " Prediction(uid=50, iid=459, r_ui=4.0, est=3.5462971202005527, details={'was_impossible': False}),\n",
       " Prediction(uid=50, iid=460, r_ui=4.0, est=4, details={'was_impossible': False}),\n",
       " Prediction(uid=50, iid=461, r_ui=4.0, est=2.878596921741952, details={'was_impossible': False}),\n",
       " Prediction(uid=50, iid=462, r_ui=4.0, est=3.62316040117471, details={'was_impossible': False}),\n",
       " Prediction(uid=50, iid=463, r_ui=4.0, est=3.5361663261336655, details={'was_impossible': False}),\n",
       " Prediction(uid=50, iid=464, r_ui=4.0, est=3.78831844948253, details={'was_impossible': False}),\n",
       " Prediction(uid=50, iid=465, r_ui=4.0, est=3.8408084538097182, details={'was_impossible': False}),\n",
       " Prediction(uid=50, iid=466, r_ui=4.0, est=3.663184276661205, details={'was_impossible': False}),\n",
       " Prediction(uid=50, iid=467, r_ui=4.0, est=3.2655578269308023, details={'was_impossible': False}),\n",
       " Prediction(uid=50, iid=468, r_ui=4.0, est=3.640480276965962, details={'was_impossible': False}),\n",
       " Prediction(uid=50, iid=469, r_ui=4.0, est=3.5846787498283827, details={'was_impossible': False}),\n",
       " Prediction(uid=50, iid=470, r_ui=4.0, est=3.5740153310898664, details={'was_impossible': False}),\n",
       " Prediction(uid=50, iid=471, r_ui=4.0, est=3.610564876532729, details={'was_impossible': False}),\n",
       " Prediction(uid=50, iid=472, r_ui=4.0, est=3.413099256610567, details={'was_impossible': False}),\n",
       " Prediction(uid=50, iid=473, r_ui=4.0, est=3.7659472769853006, details={'was_impossible': False}),\n",
       " Prediction(uid=50, iid=474, r_ui=4.0, est=3.282524767445451, details={'was_impossible': False}),\n",
       " Prediction(uid=50, iid=475, r_ui=4.0, est=3.729713928367123, details={'was_impossible': False}),\n",
       " Prediction(uid=50, iid=476, r_ui=4.0, est=3.9951536129937644, details={'was_impossible': False}),\n",
       " Prediction(uid=50, iid=477, r_ui=4.0, est=3.6889046180001754, details={'was_impossible': False}),\n",
       " Prediction(uid=50, iid=478, r_ui=4.0, est=3.5508793299624863, details={'was_impossible': False}),\n",
       " Prediction(uid=50, iid=479, r_ui=4.0, est=3.705885358711976, details={'was_impossible': False}),\n",
       " Prediction(uid=50, iid=480, r_ui=4.0, est=3.60730719842187, details={'was_impossible': False}),\n",
       " Prediction(uid=50, iid=481, r_ui=4.0, est=3.5048289599819817, details={'was_impossible': False}),\n",
       " Prediction(uid=50, iid=482, r_ui=4.0, est=3.3037943733728556, details={'was_impossible': False}),\n",
       " Prediction(uid=50, iid=483, r_ui=4.0, est=3.705583994301877, details={'was_impossible': False}),\n",
       " Prediction(uid=50, iid=484, r_ui=4.0, est=3.8915254385286366, details={'was_impossible': False}),\n",
       " Prediction(uid=50, iid=485, r_ui=4.0, est=3.642342468227014, details={'was_impossible': False}),\n",
       " Prediction(uid=50, iid=486, r_ui=4.0, est=3.7917920208622737, details={'was_impossible': False}),\n",
       " Prediction(uid=50, iid=487, r_ui=4.0, est=3.745303001822983, details={'was_impossible': False}),\n",
       " Prediction(uid=50, iid=488, r_ui=4.0, est=3.7158421705680067, details={'was_impossible': False}),\n",
       " Prediction(uid=50, iid=489, r_ui=4.0, est=3.1702434025073956, details={'was_impossible': False}),\n",
       " Prediction(uid=50, iid=490, r_ui=4.0, est=3.1618417673519983, details={'was_impossible': False}),\n",
       " Prediction(uid=50, iid=491, r_ui=4.0, est=3.6148025139723376, details={'was_impossible': False}),\n",
       " Prediction(uid=50, iid=492, r_ui=4.0, est=3.591139809001737, details={'was_impossible': False}),\n",
       " Prediction(uid=50, iid=493, r_ui=4.0, est=3.482922243437232, details={'was_impossible': False}),\n",
       " Prediction(uid=50, iid=494, r_ui=4.0, est=3.7014756110958063, details={'was_impossible': False}),\n",
       " Prediction(uid=50, iid=495, r_ui=4.0, est=3.4424718787188313, details={'was_impossible': False}),\n",
       " Prediction(uid=50, iid=496, r_ui=4.0, est=3.779520783000872, details={'was_impossible': False}),\n",
       " Prediction(uid=50, iid=497, r_ui=4.0, est=3.663237056891073, details={'was_impossible': False}),\n",
       " Prediction(uid=50, iid=498, r_ui=4.0, est=3.3063490125150956, details={'was_impossible': False}),\n",
       " Prediction(uid=50, iid=499, r_ui=4.0, est=3.3146386722778267, details={'was_impossible': False}),\n",
       " Prediction(uid=50, iid=500, r_ui=4.0, est=3.6352636271979626, details={'was_impossible': False}),\n",
       " Prediction(uid=50, iid=501, r_ui=4.0, est=3.830041768556165, details={'was_impossible': False}),\n",
       " Prediction(uid=50, iid=502, r_ui=4.0, est=3.8033134513231794, details={'was_impossible': False}),\n",
       " Prediction(uid=50, iid=503, r_ui=4.0, est=3.6439648185899096, details={'was_impossible': False}),\n",
       " Prediction(uid=50, iid=504, r_ui=4.0, est=3.3833250347775934, details={'was_impossible': False}),\n",
       " Prediction(uid=50, iid=505, r_ui=4.0, est=3.467155490360936, details={'was_impossible': False}),\n",
       " Prediction(uid=50, iid=506, r_ui=4.0, est=3.348624040776317, details={'was_impossible': False}),\n",
       " Prediction(uid=50, iid=507, r_ui=4.0, est=3.498443534824894, details={'was_impossible': False}),\n",
       " Prediction(uid=50, iid=508, r_ui=4.0, est=3.8879814865625937, details={'was_impossible': False}),\n",
       " Prediction(uid=50, iid=509, r_ui=4.0, est=3.5942376313100235, details={'was_impossible': False}),\n",
       " Prediction(uid=50, iid=510, r_ui=4.0, est=3.1478713936727707, details={'was_impossible': False}),\n",
       " Prediction(uid=50, iid=511, r_ui=4.0, est=3.9266077128244614, details={'was_impossible': False}),\n",
       " Prediction(uid=50, iid=512, r_ui=4.0, est=4, details={'was_impossible': False}),\n",
       " Prediction(uid=50, iid=513, r_ui=4.0, est=3.86230694717984, details={'was_impossible': False}),\n",
       " Prediction(uid=50, iid=514, r_ui=4.0, est=3.6812458353711066, details={'was_impossible': False}),\n",
       " Prediction(uid=50, iid=515, r_ui=4.0, est=3.394658457213582, details={'was_impossible': False}),\n",
       " Prediction(uid=50, iid=516, r_ui=4.0, est=3.6306210340893132, details={'was_impossible': False}),\n",
       " Prediction(uid=50, iid=517, r_ui=4.0, est=3.439469350994447, details={'was_impossible': False}),\n",
       " Prediction(uid=50, iid=518, r_ui=4.0, est=3.7335597739931328, details={'was_impossible': False}),\n",
       " Prediction(uid=50, iid=519, r_ui=4.0, est=3.7575144930318443, details={'was_impossible': False}),\n",
       " Prediction(uid=50, iid=520, r_ui=4.0, est=3.806421167408861, details={'was_impossible': False}),\n",
       " Prediction(uid=50, iid=521, r_ui=4.0, est=4, details={'was_impossible': False}),\n",
       " Prediction(uid=50, iid=522, r_ui=4.0, est=3.7482034015541825, details={'was_impossible': False}),\n",
       " Prediction(uid=50, iid=523, r_ui=4.0, est=2.9886311424793877, details={'was_impossible': False}),\n",
       " Prediction(uid=50, iid=524, r_ui=4.0, est=3.498920200069655, details={'was_impossible': False}),\n",
       " Prediction(uid=50, iid=525, r_ui=4.0, est=3.9968441989842143, details={'was_impossible': False}),\n",
       " Prediction(uid=50, iid=526, r_ui=4.0, est=3.7665484333652404, details={'was_impossible': False}),\n",
       " Prediction(uid=50, iid=527, r_ui=4.0, est=3.6215321985620026, details={'was_impossible': False}),\n",
       " Prediction(uid=50, iid=528, r_ui=4.0, est=3.467631475796093, details={'was_impossible': False}),\n",
       " Prediction(uid=50, iid=529, r_ui=4.0, est=3.3933772227302317, details={'was_impossible': False}),\n",
       " Prediction(uid=50, iid=530, r_ui=4.0, est=3.8745978451412153, details={'was_impossible': False}),\n",
       " Prediction(uid=50, iid=531, r_ui=4.0, est=3.391686737694079, details={'was_impossible': False}),\n",
       " Prediction(uid=50, iid=532, r_ui=4.0, est=3.652840282420546, details={'was_impossible': False}),\n",
       " Prediction(uid=50, iid=533, r_ui=4.0, est=3.359497414774255, details={'was_impossible': False}),\n",
       " Prediction(uid=50, iid=534, r_ui=4.0, est=3.9855458336450424, details={'was_impossible': False}),\n",
       " Prediction(uid=50, iid=535, r_ui=4.0, est=3.3608780421211994, details={'was_impossible': False}),\n",
       " Prediction(uid=50, iid=536, r_ui=4.0, est=3.621822165160843, details={'was_impossible': False}),\n",
       " Prediction(uid=50, iid=537, r_ui=4.0, est=3.2924011515250156, details={'was_impossible': False}),\n",
       " Prediction(uid=50, iid=538, r_ui=4.0, est=3.408361077902821, details={'was_impossible': False}),\n",
       " Prediction(uid=50, iid=539, r_ui=4.0, est=3.7259267461794146, details={'was_impossible': False}),\n",
       " Prediction(uid=50, iid=540, r_ui=4.0, est=3.4418520151064715, details={'was_impossible': False}),\n",
       " Prediction(uid=50, iid=541, r_ui=4.0, est=3.167307512038933, details={'was_impossible': False}),\n",
       " Prediction(uid=50, iid=542, r_ui=4.0, est=3.8850608473343677, details={'was_impossible': False}),\n",
       " Prediction(uid=50, iid=543, r_ui=4.0, est=3.6098044841313115, details={'was_impossible': False}),\n",
       " Prediction(uid=50, iid=544, r_ui=4.0, est=3.563336716555512, details={'was_impossible': False}),\n",
       " Prediction(uid=50, iid=545, r_ui=4.0, est=3.9318527064850675, details={'was_impossible': False}),\n",
       " Prediction(uid=50, iid=546, r_ui=4.0, est=3.7895145216231105, details={'was_impossible': False}),\n",
       " Prediction(uid=50, iid=547, r_ui=4.0, est=3.662427257597716, details={'was_impossible': False}),\n",
       " Prediction(uid=50, iid=548, r_ui=4.0, est=3.0801271925487606, details={'was_impossible': False}),\n",
       " Prediction(uid=50, iid=549, r_ui=4.0, est=3.571587401695723, details={'was_impossible': False}),\n",
       " Prediction(uid=50, iid=550, r_ui=4.0, est=3.8765819555871426, details={'was_impossible': False}),\n",
       " Prediction(uid=50, iid=551, r_ui=4.0, est=3.486677086266036, details={'was_impossible': False}),\n",
       " Prediction(uid=50, iid=552, r_ui=4.0, est=3.5601074032138005, details={'was_impossible': False}),\n",
       " Prediction(uid=50, iid=553, r_ui=4.0, est=3.4160664967520797, details={'was_impossible': False}),\n",
       " Prediction(uid=50, iid=554, r_ui=4.0, est=3.3984284939839715, details={'was_impossible': False}),\n",
       " Prediction(uid=50, iid=555, r_ui=4.0, est=3.7350590012385743, details={'was_impossible': False}),\n",
       " Prediction(uid=50, iid=556, r_ui=4.0, est=3.577311983091527, details={'was_impossible': False}),\n",
       " Prediction(uid=50, iid=557, r_ui=4.0, est=3.277882986462625, details={'was_impossible': False}),\n",
       " Prediction(uid=50, iid=558, r_ui=4.0, est=3.652293781020998, details={'was_impossible': False}),\n",
       " Prediction(uid=50, iid=559, r_ui=4.0, est=3.3168058100650213, details={'was_impossible': False}),\n",
       " Prediction(uid=50, iid=560, r_ui=4.0, est=3.6683184974793526, details={'was_impossible': False}),\n",
       " Prediction(uid=50, iid=561, r_ui=4.0, est=3.459667312251063, details={'was_impossible': False}),\n",
       " Prediction(uid=50, iid=562, r_ui=4.0, est=3.709809337616107, details={'was_impossible': False}),\n",
       " Prediction(uid=50, iid=563, r_ui=4.0, est=4, details={'was_impossible': False}),\n",
       " Prediction(uid=50, iid=564, r_ui=4.0, est=3.693269166222606, details={'was_impossible': False}),\n",
       " Prediction(uid=50, iid=565, r_ui=4.0, est=4, details={'was_impossible': False}),\n",
       " Prediction(uid=50, iid=566, r_ui=4.0, est=3.619506321756129, details={'was_impossible': False}),\n",
       " Prediction(uid=50, iid=567, r_ui=4.0, est=3.631606987363063, details={'was_impossible': False}),\n",
       " Prediction(uid=50, iid=568, r_ui=4.0, est=3.2450172560947994, details={'was_impossible': False}),\n",
       " Prediction(uid=50, iid=569, r_ui=4.0, est=3.3815569764437368, details={'was_impossible': False}),\n",
       " Prediction(uid=50, iid=570, r_ui=4.0, est=3.6900713775848475, details={'was_impossible': False}),\n",
       " Prediction(uid=50, iid=571, r_ui=4.0, est=3.682302827721474, details={'was_impossible': False}),\n",
       " Prediction(uid=50, iid=572, r_ui=4.0, est=3.891377338781392, details={'was_impossible': False}),\n",
       " Prediction(uid=50, iid=573, r_ui=4.0, est=3.6326223638256034, details={'was_impossible': False}),\n",
       " Prediction(uid=50, iid=574, r_ui=4.0, est=3.4959896429248003, details={'was_impossible': False}),\n",
       " Prediction(uid=50, iid=575, r_ui=4.0, est=3.420837606916022, details={'was_impossible': False}),\n",
       " Prediction(uid=50, iid=576, r_ui=4.0, est=3.4294498090152743, details={'was_impossible': False}),\n",
       " Prediction(uid=50, iid=577, r_ui=4.0, est=3.2488981186122032, details={'was_impossible': False}),\n",
       " Prediction(uid=50, iid=578, r_ui=4.0, est=3.488880110860192, details={'was_impossible': False}),\n",
       " Prediction(uid=50, iid=579, r_ui=4.0, est=3.136778950980034, details={'was_impossible': False}),\n",
       " Prediction(uid=50, iid=580, r_ui=4.0, est=3.5358038775219014, details={'was_impossible': False}),\n",
       " Prediction(uid=50, iid=581, r_ui=4.0, est=3.4632870048803626, details={'was_impossible': False}),\n",
       " Prediction(uid=50, iid=582, r_ui=4.0, est=3.229955836375216, details={'was_impossible': False}),\n",
       " Prediction(uid=50, iid=583, r_ui=4.0, est=3.504079681431488, details={'was_impossible': False}),\n",
       " Prediction(uid=50, iid=584, r_ui=4.0, est=3.3569058257377957, details={'was_impossible': False}),\n",
       " Prediction(uid=50, iid=585, r_ui=4.0, est=3.4057799413311582, details={'was_impossible': False}),\n",
       " Prediction(uid=50, iid=586, r_ui=4.0, est=3.145710598305248, details={'was_impossible': False}),\n",
       " Prediction(uid=50, iid=587, r_ui=4.0, est=2.7651645604911534, details={'was_impossible': False}),\n",
       " Prediction(uid=50, iid=588, r_ui=4.0, est=3.915909684170682, details={'was_impossible': False}),\n",
       " Prediction(uid=50, iid=589, r_ui=4.0, est=3.687973363714878, details={'was_impossible': False}),\n",
       " Prediction(uid=50, iid=590, r_ui=4.0, est=3.546015204513757, details={'was_impossible': False}),\n",
       " Prediction(uid=50, iid=591, r_ui=4.0, est=3.021368452930911, details={'was_impossible': False}),\n",
       " Prediction(uid=50, iid=592, r_ui=4.0, est=2.519485369315065, details={'was_impossible': False}),\n",
       " Prediction(uid=50, iid=593, r_ui=4.0, est=3.5106718711566334, details={'was_impossible': False}),\n",
       " Prediction(uid=50, iid=594, r_ui=4.0, est=2.9021784690995474, details={'was_impossible': False}),\n",
       " Prediction(uid=50, iid=595, r_ui=4.0, est=3.6526616414681086, details={'was_impossible': False}),\n",
       " Prediction(uid=50, iid=596, r_ui=4.0, est=3.4649507414062217, details={'was_impossible': False}),\n",
       " Prediction(uid=50, iid=597, r_ui=4.0, est=3.1036345438136914, details={'was_impossible': False}),\n",
       " Prediction(uid=50, iid=598, r_ui=4.0, est=3.644649350530533, details={'was_impossible': False}),\n",
       " Prediction(uid=50, iid=599, r_ui=4.0, est=3.2392347984343113, details={'was_impossible': False}),\n",
       " Prediction(uid=50, iid=600, r_ui=4.0, est=3.7318903539715897, details={'was_impossible': False}),\n",
       " Prediction(uid=50, iid=601, r_ui=4.0, est=3.581672915121404, details={'was_impossible': False}),\n",
       " Prediction(uid=50, iid=602, r_ui=4.0, est=3.5672777873455326, details={'was_impossible': False}),\n",
       " Prediction(uid=50, iid=603, r_ui=4.0, est=3.565100676768338, details={'was_impossible': False}),\n",
       " Prediction(uid=50, iid=604, r_ui=4.0, est=3.6985152581911076, details={'was_impossible': False}),\n",
       " Prediction(uid=50, iid=605, r_ui=4.0, est=3.3232982541857483, details={'was_impossible': False}),\n",
       " Prediction(uid=50, iid=606, r_ui=4.0, est=3.4535472472626996, details={'was_impossible': False}),\n",
       " Prediction(uid=50, iid=607, r_ui=4.0, est=3.7269876127394723, details={'was_impossible': False}),\n",
       " Prediction(uid=50, iid=608, r_ui=4.0, est=3.348556609130591, details={'was_impossible': False}),\n",
       " Prediction(uid=50, iid=609, r_ui=4.0, est=3.7147290460912314, details={'was_impossible': False}),\n",
       " Prediction(uid=50, iid=610, r_ui=4.0, est=3.608145426028182, details={'was_impossible': False}),\n",
       " Prediction(uid=50, iid=611, r_ui=4.0, est=3.6727125706467088, details={'was_impossible': False}),\n",
       " Prediction(uid=50, iid=612, r_ui=4.0, est=3.494307712766847, details={'was_impossible': False}),\n",
       " Prediction(uid=50, iid=613, r_ui=4.0, est=3.5379332892549185, details={'was_impossible': False}),\n",
       " Prediction(uid=50, iid=614, r_ui=4.0, est=3.5797348109730636, details={'was_impossible': False}),\n",
       " Prediction(uid=50, iid=615, r_ui=4.0, est=3.6821703809150046, details={'was_impossible': False}),\n",
       " Prediction(uid=50, iid=616, r_ui=4.0, est=3.9192478934978734, details={'was_impossible': False}),\n",
       " Prediction(uid=50, iid=617, r_ui=4.0, est=3.7484430712438934, details={'was_impossible': False}),\n",
       " Prediction(uid=50, iid=618, r_ui=4.0, est=3.8402093973527385, details={'was_impossible': False}),\n",
       " Prediction(uid=50, iid=619, r_ui=4.0, est=3.5119483885954685, details={'was_impossible': False}),\n",
       " Prediction(uid=50, iid=620, r_ui=4.0, est=3.923293481524093, details={'was_impossible': False}),\n",
       " Prediction(uid=50, iid=621, r_ui=4.0, est=3.7552949276174443, details={'was_impossible': False}),\n",
       " Prediction(uid=50, iid=622, r_ui=4.0, est=3.702845751878343, details={'was_impossible': False}),\n",
       " Prediction(uid=50, iid=623, r_ui=4.0, est=3.670472909750941, details={'was_impossible': False}),\n",
       " Prediction(uid=50, iid=624, r_ui=4.0, est=3.643329406296743, details={'was_impossible': False}),\n",
       " Prediction(uid=50, iid=625, r_ui=4.0, est=3.614905013180745, details={'was_impossible': False}),\n",
       " Prediction(uid=50, iid=626, r_ui=4.0, est=3.649799307522535, details={'was_impossible': False}),\n",
       " Prediction(uid=50, iid=627, r_ui=4.0, est=3.5853437295809596, details={'was_impossible': False}),\n",
       " Prediction(uid=50, iid=628, r_ui=4.0, est=3.038705174597532, details={'was_impossible': False}),\n",
       " Prediction(uid=50, iid=629, r_ui=4.0, est=3.51650767056324, details={'was_impossible': False}),\n",
       " Prediction(uid=50, iid=630, r_ui=4.0, est=3.532012390362634, details={'was_impossible': False}),\n",
       " Prediction(uid=50, iid=631, r_ui=4.0, est=3.3137618518857783, details={'was_impossible': False}),\n",
       " Prediction(uid=50, iid=632, r_ui=4.0, est=3.627983666987254, details={'was_impossible': False}),\n",
       " Prediction(uid=50, iid=633, r_ui=4.0, est=3.6030064073956543, details={'was_impossible': False}),\n",
       " Prediction(uid=50, iid=634, r_ui=4.0, est=3.5191701834818003, details={'was_impossible': False}),\n",
       " Prediction(uid=50, iid=635, r_ui=4.0, est=3.6885369751302246, details={'was_impossible': False}),\n",
       " Prediction(uid=50, iid=636, r_ui=4.0, est=3.674333901245127, details={'was_impossible': False}),\n",
       " Prediction(uid=50, iid=637, r_ui=4.0, est=3.605535065901778, details={'was_impossible': False}),\n",
       " Prediction(uid=50, iid=638, r_ui=4.0, est=3.909760627892628, details={'was_impossible': False}),\n",
       " Prediction(uid=50, iid=639, r_ui=4.0, est=3.5061473314886835, details={'was_impossible': False}),\n",
       " Prediction(uid=50, iid=640, r_ui=4.0, est=3.460118511903416, details={'was_impossible': False}),\n",
       " Prediction(uid=50, iid=641, r_ui=4.0, est=3.685457473168101, details={'was_impossible': False}),\n",
       " Prediction(uid=50, iid=642, r_ui=4.0, est=3.6797206539342096, details={'was_impossible': False}),\n",
       " Prediction(uid=50, iid=643, r_ui=4.0, est=3.538612946905011, details={'was_impossible': False}),\n",
       " Prediction(uid=50, iid=644, r_ui=4.0, est=3.502411772483235, details={'was_impossible': False}),\n",
       " Prediction(uid=50, iid=645, r_ui=4.0, est=3.637729919802898, details={'was_impossible': False}),\n",
       " Prediction(uid=50, iid=646, r_ui=4.0, est=3.4750263903994365, details={'was_impossible': False}),\n",
       " Prediction(uid=50, iid=647, r_ui=4.0, est=3.554533108868782, details={'was_impossible': False}),\n",
       " Prediction(uid=50, iid=648, r_ui=4.0, est=3.7284064694859738, details={'was_impossible': False}),\n",
       " Prediction(uid=50, iid=649, r_ui=4.0, est=3.6654955822846267, details={'was_impossible': False}),\n",
       " Prediction(uid=50, iid=650, r_ui=4.0, est=3.486743422423386, details={'was_impossible': False}),\n",
       " Prediction(uid=50, iid=651, r_ui=4.0, est=3.525062124088248, details={'was_impossible': False}),\n",
       " Prediction(uid=50, iid=652, r_ui=4.0, est=3.370173191420862, details={'was_impossible': False}),\n",
       " Prediction(uid=50, iid=653, r_ui=4.0, est=3.7423076017704155, details={'was_impossible': False}),\n",
       " Prediction(uid=50, iid=654, r_ui=4.0, est=3.478271586313182, details={'was_impossible': False}),\n",
       " Prediction(uid=50, iid=655, r_ui=4.0, est=3.613540117846847, details={'was_impossible': False}),\n",
       " Prediction(uid=50, iid=656, r_ui=4.0, est=3.9791322189016016, details={'was_impossible': False}),\n",
       " Prediction(uid=50, iid=657, r_ui=4.0, est=3.8155363118702414, details={'was_impossible': False}),\n",
       " Prediction(uid=50, iid=658, r_ui=4.0, est=4, details={'was_impossible': False}),\n",
       " Prediction(uid=50, iid=659, r_ui=4.0, est=3.5174032918933813, details={'was_impossible': False}),\n",
       " Prediction(uid=50, iid=660, r_ui=4.0, est=3.454479478029237, details={'was_impossible': False}),\n",
       " Prediction(uid=50, iid=661, r_ui=4.0, est=3.6196196896116812, details={'was_impossible': False}),\n",
       " Prediction(uid=50, iid=662, r_ui=4.0, est=3.59561214172533, details={'was_impossible': False}),\n",
       " Prediction(uid=50, iid=663, r_ui=4.0, est=3.3463312704870507, details={'was_impossible': False}),\n",
       " Prediction(uid=50, iid=664, r_ui=4.0, est=3.824630421053838, details={'was_impossible': False}),\n",
       " Prediction(uid=50, iid=665, r_ui=4.0, est=3.7144979337763484, details={'was_impossible': False}),\n",
       " Prediction(uid=50, iid=666, r_ui=4.0, est=3.8769704455485527, details={'was_impossible': False}),\n",
       " Prediction(uid=50, iid=667, r_ui=4.0, est=3.5781237132923067, details={'was_impossible': False}),\n",
       " Prediction(uid=50, iid=668, r_ui=4.0, est=3.36486029189522, details={'was_impossible': False}),\n",
       " Prediction(uid=50, iid=669, r_ui=4.0, est=3.6700515722182767, details={'was_impossible': False}),\n",
       " Prediction(uid=50, iid=670, r_ui=4.0, est=3.761531272414629, details={'was_impossible': False}),\n",
       " Prediction(uid=50, iid=671, r_ui=4.0, est=3.666820754037622, details={'was_impossible': False}),\n",
       " Prediction(uid=50, iid=672, r_ui=4.0, est=3.862629184394115, details={'was_impossible': False}),\n",
       " Prediction(uid=50, iid=673, r_ui=4.0, est=3.5204141054704534, details={'was_impossible': False}),\n",
       " Prediction(uid=50, iid=674, r_ui=4.0, est=3.504752369767151, details={'was_impossible': False}),\n",
       " Prediction(uid=50, iid=675, r_ui=4.0, est=4, details={'was_impossible': False}),\n",
       " Prediction(uid=50, iid=676, r_ui=4.0, est=2.907461793378397, details={'was_impossible': False}),\n",
       " Prediction(uid=50, iid=677, r_ui=4.0, est=3.631510251718786, details={'was_impossible': False}),\n",
       " Prediction(uid=50, iid=678, r_ui=4.0, est=3.409072644907445, details={'was_impossible': False}),\n",
       " Prediction(uid=50, iid=679, r_ui=4.0, est=3.3128386955735865, details={'was_impossible': False}),\n",
       " Prediction(uid=50, iid=680, r_ui=4.0, est=3.5857929940548976, details={'was_impossible': False}),\n",
       " Prediction(uid=50, iid=681, r_ui=4.0, est=3.4543614788694366, details={'was_impossible': False}),\n",
       " Prediction(uid=50, iid=682, r_ui=4.0, est=3.4844960692592917, details={'was_impossible': False}),\n",
       " Prediction(uid=50, iid=683, r_ui=4.0, est=3.6006791570823125, details={'was_impossible': False}),\n",
       " Prediction(uid=50, iid=684, r_ui=4.0, est=3.5374393226767533, details={'was_impossible': False}),\n",
       " Prediction(uid=50, iid=685, r_ui=4.0, est=3.423644239405724, details={'was_impossible': False}),\n",
       " Prediction(uid=50, iid=686, r_ui=4.0, est=3.3931163937065665, details={'was_impossible': False}),\n",
       " Prediction(uid=50, iid=687, r_ui=4.0, est=3.3029444734050917, details={'was_impossible': False}),\n",
       " Prediction(uid=50, iid=688, r_ui=4.0, est=3.158377142038106, details={'was_impossible': False}),\n",
       " Prediction(uid=50, iid=689, r_ui=4.0, est=4, details={'was_impossible': False}),\n",
       " Prediction(uid=50, iid=690, r_ui=4.0, est=3.4130080759588983, details={'was_impossible': False}),\n",
       " Prediction(uid=50, iid=691, r_ui=4.0, est=3.176429732364375, details={'was_impossible': False}),\n",
       " Prediction(uid=50, iid=692, r_ui=4.0, est=3.232018222894786, details={'was_impossible': False}),\n",
       " Prediction(uid=50, iid=693, r_ui=4.0, est=3.4370513902090534, details={'was_impossible': False}),\n",
       " Prediction(uid=50, iid=694, r_ui=4.0, est=2.9511467544639935, details={'was_impossible': False}),\n",
       " Prediction(uid=50, iid=695, r_ui=4.0, est=3.2775087253698527, details={'was_impossible': False}),\n",
       " Prediction(uid=50, iid=696, r_ui=4.0, est=3.9290600856211118, details={'was_impossible': False}),\n",
       " Prediction(uid=50, iid=697, r_ui=4.0, est=3.5579529096119114, details={'was_impossible': False}),\n",
       " Prediction(uid=50, iid=698, r_ui=4.0, est=3.243556595722429, details={'was_impossible': False}),\n",
       " Prediction(uid=50, iid=699, r_ui=4.0, est=3.634027400329557, details={'was_impossible': False}),\n",
       " Prediction(uid=50, iid=700, r_ui=4.0, est=2.846430679617524, details={'was_impossible': False}),\n",
       " Prediction(uid=50, iid=701, r_ui=4.0, est=3.236556970735234, details={'was_impossible': False}),\n",
       " Prediction(uid=50, iid=702, r_ui=4.0, est=4, details={'was_impossible': False}),\n",
       " Prediction(uid=50, iid=703, r_ui=4.0, est=3.315811904052199, details={'was_impossible': False}),\n",
       " Prediction(uid=50, iid=704, r_ui=4.0, est=3.847204862100018, details={'was_impossible': False}),\n",
       " Prediction(uid=50, iid=705, r_ui=4.0, est=4, details={'was_impossible': False}),\n",
       " Prediction(uid=50, iid=706, r_ui=4.0, est=3.67128956861095, details={'was_impossible': False}),\n",
       " Prediction(uid=50, iid=707, r_ui=4.0, est=3.6239665898795783, details={'was_impossible': False}),\n",
       " Prediction(uid=50, iid=708, r_ui=4.0, est=3.235533019638608, details={'was_impossible': False}),\n",
       " Prediction(uid=50, iid=709, r_ui=4.0, est=3.556940567735997, details={'was_impossible': False}),\n",
       " Prediction(uid=50, iid=710, r_ui=4.0, est=3.2227850271279674, details={'was_impossible': False}),\n",
       " Prediction(uid=50, iid=711, r_ui=4.0, est=3.293615223592544, details={'was_impossible': False}),\n",
       " Prediction(uid=50, iid=712, r_ui=4.0, est=3.8088231827933523, details={'was_impossible': False}),\n",
       " Prediction(uid=50, iid=713, r_ui=4.0, est=3.4948840110622683, details={'was_impossible': False}),\n",
       " Prediction(uid=50, iid=714, r_ui=4.0, est=3.619152315959967, details={'was_impossible': False}),\n",
       " Prediction(uid=50, iid=715, r_ui=4.0, est=3.3367611770873777, details={'was_impossible': False}),\n",
       " Prediction(uid=50, iid=716, r_ui=4.0, est=3.496384685235418, details={'was_impossible': False}),\n",
       " Prediction(uid=50, iid=717, r_ui=4.0, est=3.8818205451165437, details={'was_impossible': False}),\n",
       " Prediction(uid=50, iid=718, r_ui=4.0, est=3.65336972394288, details={'was_impossible': False}),\n",
       " Prediction(uid=50, iid=719, r_ui=4.0, est=2.936356935873567, details={'was_impossible': False}),\n",
       " Prediction(uid=50, iid=720, r_ui=4.0, est=3.2051411681643005, details={'was_impossible': False}),\n",
       " Prediction(uid=50, iid=721, r_ui=4.0, est=3.2401249964201595, details={'was_impossible': False}),\n",
       " Prediction(uid=50, iid=722, r_ui=4.0, est=3.189206174952855, details={'was_impossible': False}),\n",
       " Prediction(uid=50, iid=723, r_ui=4.0, est=3.58390341673719, details={'was_impossible': False}),\n",
       " Prediction(uid=50, iid=724, r_ui=4.0, est=3.1281044461871113, details={'was_impossible': False}),\n",
       " Prediction(uid=50, iid=725, r_ui=4.0, est=3.4122159983742297, details={'was_impossible': False}),\n",
       " Prediction(uid=50, iid=726, r_ui=4.0, est=3.6310546307598175, details={'was_impossible': False}),\n",
       " Prediction(uid=50, iid=727, r_ui=4.0, est=3.1763851203691273, details={'was_impossible': False}),\n",
       " Prediction(uid=50, iid=728, r_ui=4.0, est=4, details={'was_impossible': False}),\n",
       " Prediction(uid=50, iid=729, r_ui=4.0, est=3.9379577925494966, details={'was_impossible': False}),\n",
       " Prediction(uid=50, iid=730, r_ui=4.0, est=3.574439775330405, details={'was_impossible': False}),\n",
       " Prediction(uid=50, iid=731, r_ui=4.0, est=3.6039273880302147, details={'was_impossible': False}),\n",
       " Prediction(uid=50, iid=732, r_ui=4.0, est=3.7607920503836834, details={'was_impossible': False}),\n",
       " Prediction(uid=50, iid=733, r_ui=4.0, est=3.3347290720091536, details={'was_impossible': False}),\n",
       " Prediction(uid=50, iid=734, r_ui=4.0, est=2.75270295095398, details={'was_impossible': False}),\n",
       " Prediction(uid=50, iid=735, r_ui=4.0, est=3.5273627983964775, details={'was_impossible': False}),\n",
       " Prediction(uid=50, iid=736, r_ui=4.0, est=3.449902423085783, details={'was_impossible': False}),\n",
       " Prediction(uid=50, iid=737, r_ui=4.0, est=3.7330906329465434, details={'was_impossible': False}),\n",
       " Prediction(uid=50, iid=738, r_ui=4.0, est=3.344360135515538, details={'was_impossible': False}),\n",
       " Prediction(uid=50, iid=739, r_ui=4.0, est=3.2665430322566213, details={'was_impossible': False}),\n",
       " Prediction(uid=50, iid=740, r_ui=4.0, est=3.4207236668302494, details={'was_impossible': False}),\n",
       " Prediction(uid=50, iid=741, r_ui=4.0, est=3.333218388288087, details={'was_impossible': False}),\n",
       " Prediction(uid=50, iid=742, r_ui=4.0, est=3.0010796161578717, details={'was_impossible': False}),\n",
       " Prediction(uid=50, iid=743, r_ui=4.0, est=2.8972301893109345, details={'was_impossible': False}),\n",
       " Prediction(uid=50, iid=744, r_ui=4.0, est=3.4108829749371328, details={'was_impossible': False}),\n",
       " Prediction(uid=50, iid=745, r_ui=4.0, est=3.354051759881293, details={'was_impossible': False}),\n",
       " Prediction(uid=50, iid=746, r_ui=4.0, est=3.7125540541961124, details={'was_impossible': False}),\n",
       " Prediction(uid=50, iid=747, r_ui=4.0, est=3.2799590576606974, details={'was_impossible': False}),\n",
       " Prediction(uid=50, iid=748, r_ui=4.0, est=3.227904690643081, details={'was_impossible': False}),\n",
       " Prediction(uid=50, iid=749, r_ui=4.0, est=3.087993446157073, details={'was_impossible': False}),\n",
       " Prediction(uid=50, iid=750, r_ui=4.0, est=3.847731838793052, details={'was_impossible': False}),\n",
       " Prediction(uid=50, iid=751, r_ui=4.0, est=2.9494160831500444, details={'was_impossible': False}),\n",
       " Prediction(uid=50, iid=752, r_ui=4.0, est=3.462165643886756, details={'was_impossible': False}),\n",
       " Prediction(uid=50, iid=753, r_ui=4.0, est=3.5590150540852408, details={'was_impossible': False}),\n",
       " Prediction(uid=50, iid=754, r_ui=4.0, est=3.399211252020187, details={'was_impossible': False}),\n",
       " Prediction(uid=50, iid=755, r_ui=4.0, est=3.48358734672896, details={'was_impossible': False}),\n",
       " Prediction(uid=50, iid=756, r_ui=4.0, est=3.1495006470233893, details={'was_impossible': False}),\n",
       " Prediction(uid=50, iid=757, r_ui=4.0, est=3.824564825404127, details={'was_impossible': False}),\n",
       " Prediction(uid=50, iid=758, r_ui=4.0, est=3.492180933318676, details={'was_impossible': False}),\n",
       " Prediction(uid=50, iid=759, r_ui=4.0, est=3.3726956309589897, details={'was_impossible': False}),\n",
       " Prediction(uid=50, iid=760, r_ui=4.0, est=3.2900845143709367, details={'was_impossible': False}),\n",
       " Prediction(uid=50, iid=761, r_ui=4.0, est=3.469374928995357, details={'was_impossible': False}),\n",
       " Prediction(uid=50, iid=762, r_ui=4.0, est=3.438191082695802, details={'was_impossible': False}),\n",
       " Prediction(uid=50, iid=763, r_ui=4.0, est=3.603587867352265, details={'was_impossible': False}),\n",
       " Prediction(uid=50, iid=764, r_ui=4.0, est=3.7478160497130215, details={'was_impossible': False}),\n",
       " Prediction(uid=50, iid=765, r_ui=4.0, est=3.236133971506434, details={'was_impossible': False}),\n",
       " Prediction(uid=50, iid=766, r_ui=4.0, est=3.3953121131382455, details={'was_impossible': False}),\n",
       " Prediction(uid=50, iid=767, r_ui=4.0, est=3.5864095930200732, details={'was_impossible': False}),\n",
       " Prediction(uid=50, iid=768, r_ui=4.0, est=3.501167118976135, details={'was_impossible': False}),\n",
       " Prediction(uid=50, iid=769, r_ui=4.0, est=3.7820767506444875, details={'was_impossible': False}),\n",
       " Prediction(uid=50, iid=770, r_ui=4.0, est=3.954401043982418, details={'was_impossible': False}),\n",
       " Prediction(uid=50, iid=771, r_ui=4.0, est=3.7090123265451824, details={'was_impossible': False}),\n",
       " Prediction(uid=50, iid=772, r_ui=4.0, est=3.687620813724606, details={'was_impossible': False}),\n",
       " Prediction(uid=50, iid=773, r_ui=4.0, est=3.5808825184081186, details={'was_impossible': False}),\n",
       " Prediction(uid=50, iid=774, r_ui=4.0, est=3.6636808024534893, details={'was_impossible': False}),\n",
       " Prediction(uid=50, iid=775, r_ui=4.0, est=3.674058853554944, details={'was_impossible': False}),\n",
       " Prediction(uid=50, iid=776, r_ui=4.0, est=3.5163276177823266, details={'was_impossible': False}),\n",
       " Prediction(uid=50, iid=777, r_ui=4.0, est=3.645321744853129, details={'was_impossible': False}),\n",
       " Prediction(uid=50, iid=778, r_ui=4.0, est=3.557143700988955, details={'was_impossible': False}),\n",
       " Prediction(uid=50, iid=779, r_ui=4.0, est=3.079599362698171, details={'was_impossible': False}),\n",
       " Prediction(uid=50, iid=780, r_ui=4.0, est=3.3420932480775316, details={'was_impossible': False}),\n",
       " Prediction(uid=50, iid=781, r_ui=4.0, est=3.7296552960708222, details={'was_impossible': False}),\n",
       " Prediction(uid=50, iid=782, r_ui=4.0, est=3.5143355611898675, details={'was_impossible': False}),\n",
       " Prediction(uid=50, iid=783, r_ui=4.0, est=3.4220856958318095, details={'was_impossible': False}),\n",
       " Prediction(uid=50, iid=784, r_ui=4.0, est=3.3463648249145246, details={'was_impossible': False}),\n",
       " Prediction(uid=50, iid=785, r_ui=4.0, est=3.4442742721368957, details={'was_impossible': False}),\n",
       " Prediction(uid=50, iid=786, r_ui=4.0, est=3.686437070357787, details={'was_impossible': False}),\n",
       " Prediction(uid=50, iid=787, r_ui=4.0, est=3.7254501993734475, details={'was_impossible': False}),\n",
       " Prediction(uid=50, iid=788, r_ui=4.0, est=3.716694130870529, details={'was_impossible': False}),\n",
       " Prediction(uid=50, iid=789, r_ui=4.0, est=3.6210370245649637, details={'was_impossible': False}),\n",
       " Prediction(uid=50, iid=790, r_ui=4.0, est=3.689127909551034, details={'was_impossible': False}),\n",
       " Prediction(uid=50, iid=791, r_ui=4.0, est=3.519289470837577, details={'was_impossible': False}),\n",
       " Prediction(uid=50, iid=792, r_ui=4.0, est=3.554857637813004, details={'was_impossible': False}),\n",
       " Prediction(uid=50, iid=793, r_ui=4.0, est=3.6301764093040907, details={'was_impossible': False}),\n",
       " Prediction(uid=50, iid=794, r_ui=4.0, est=3.7192938554074475, details={'was_impossible': False}),\n",
       " Prediction(uid=50, iid=795, r_ui=4.0, est=3.3391159902232643, details={'was_impossible': False}),\n",
       " Prediction(uid=50, iid=796, r_ui=4.0, est=3.6754949683202933, details={'was_impossible': False}),\n",
       " Prediction(uid=50, iid=797, r_ui=4.0, est=3.7165477864692105, details={'was_impossible': False}),\n",
       " Prediction(uid=50, iid=798, r_ui=4.0, est=3.8324502016497273, details={'was_impossible': False}),\n",
       " Prediction(uid=50, iid=799, r_ui=4.0, est=3.752409049564415, details={'was_impossible': False}),\n",
       " Prediction(uid=50, iid=800, r_ui=4.0, est=3.482352777820859, details={'was_impossible': False}),\n",
       " Prediction(uid=50, iid=801, r_ui=4.0, est=3.609704668664505, details={'was_impossible': False}),\n",
       " Prediction(uid=50, iid=802, r_ui=4.0, est=3.3992655745351668, details={'was_impossible': False}),\n",
       " Prediction(uid=50, iid=803, r_ui=4.0, est=3.4545246826628393, details={'was_impossible': False}),\n",
       " Prediction(uid=50, iid=804, r_ui=4.0, est=3.7392475901186457, details={'was_impossible': False}),\n",
       " Prediction(uid=50, iid=805, r_ui=4.0, est=4, details={'was_impossible': False}),\n",
       " Prediction(uid=50, iid=806, r_ui=4.0, est=3.5442297875078497, details={'was_impossible': False}),\n",
       " Prediction(uid=50, iid=807, r_ui=4.0, est=3.3679125799915535, details={'was_impossible': False}),\n",
       " Prediction(uid=50, iid=808, r_ui=4.0, est=3.733632062920698, details={'was_impossible': False}),\n",
       " Prediction(uid=50, iid=809, r_ui=4.0, est=3.930655074615053, details={'was_impossible': False}),\n",
       " Prediction(uid=50, iid=810, r_ui=4.0, est=3.299720308141653, details={'was_impossible': False}),\n",
       " Prediction(uid=50, iid=811, r_ui=4.0, est=3.8360029209494377, details={'was_impossible': False}),\n",
       " Prediction(uid=50, iid=812, r_ui=4.0, est=3.203534913434233, details={'was_impossible': False}),\n",
       " Prediction(uid=50, iid=813, r_ui=4.0, est=3.6185285727904026, details={'was_impossible': False}),\n",
       " Prediction(uid=50, iid=814, r_ui=4.0, est=3.548311613245462, details={'was_impossible': False}),\n",
       " Prediction(uid=50, iid=815, r_ui=4.0, est=3.5016440494623757, details={'was_impossible': False}),\n",
       " Prediction(uid=50, iid=816, r_ui=4.0, est=3.434814162531116, details={'was_impossible': False}),\n",
       " Prediction(uid=50, iid=817, r_ui=4.0, est=3.6272253026391086, details={'was_impossible': False}),\n",
       " Prediction(uid=50, iid=818, r_ui=4.0, est=3.4001480246740314, details={'was_impossible': False}),\n",
       " Prediction(uid=50, iid=819, r_ui=4.0, est=3.670211681798643, details={'was_impossible': False}),\n",
       " Prediction(uid=50, iid=820, r_ui=4.0, est=3.225135670880336, details={'was_impossible': False}),\n",
       " Prediction(uid=50, iid=821, r_ui=4.0, est=3.664563129913043, details={'was_impossible': False}),\n",
       " Prediction(uid=50, iid=822, r_ui=4.0, est=3.7430829005037283, details={'was_impossible': False}),\n",
       " Prediction(uid=50, iid=823, r_ui=4.0, est=3.3055272952056836, details={'was_impossible': False}),\n",
       " Prediction(uid=50, iid=824, r_ui=4.0, est=3.5592341570365216, details={'was_impossible': False}),\n",
       " Prediction(uid=50, iid=825, r_ui=4.0, est=3.5398238982959205, details={'was_impossible': False}),\n",
       " Prediction(uid=50, iid=826, r_ui=4.0, est=3.810937960174406, details={'was_impossible': False}),\n",
       " Prediction(uid=50, iid=827, r_ui=4.0, est=3.7111097638684094, details={'was_impossible': False}),\n",
       " Prediction(uid=50, iid=828, r_ui=4.0, est=3.5234150435008904, details={'was_impossible': False}),\n",
       " Prediction(uid=50, iid=829, r_ui=4.0, est=3.1556396446944297, details={'was_impossible': False}),\n",
       " Prediction(uid=50, iid=830, r_ui=4.0, est=3.6880836034323417, details={'was_impossible': False}),\n",
       " Prediction(uid=50, iid=831, r_ui=4.0, est=3.9244926674744325, details={'was_impossible': False}),\n",
       " Prediction(uid=50, iid=832, r_ui=4.0, est=2.819270421723072, details={'was_impossible': False}),\n",
       " Prediction(uid=50, iid=833, r_ui=4.0, est=3.626981755748199, details={'was_impossible': False}),\n",
       " Prediction(uid=50, iid=834, r_ui=4.0, est=3.801045978379921, details={'was_impossible': False}),\n",
       " Prediction(uid=50, iid=835, r_ui=4.0, est=3.411365341121909, details={'was_impossible': False}),\n",
       " Prediction(uid=50, iid=836, r_ui=4.0, est=3.5839231702713703, details={'was_impossible': False}),\n",
       " Prediction(uid=50, iid=837, r_ui=4.0, est=3.939192230762258, details={'was_impossible': False}),\n",
       " Prediction(uid=50, iid=838, r_ui=4.0, est=3.4735683802085657, details={'was_impossible': False}),\n",
       " Prediction(uid=50, iid=839, r_ui=4.0, est=3.6246425025515463, details={'was_impossible': False}),\n",
       " Prediction(uid=50, iid=840, r_ui=4.0, est=3.58972619594322, details={'was_impossible': False}),\n",
       " Prediction(uid=50, iid=841, r_ui=4.0, est=3.548977137589854, details={'was_impossible': False}),\n",
       " Prediction(uid=50, iid=842, r_ui=4.0, est=4, details={'was_impossible': False}),\n",
       " Prediction(uid=50, iid=843, r_ui=4.0, est=3.4615575688824043, details={'was_impossible': False}),\n",
       " Prediction(uid=50, iid=844, r_ui=4.0, est=3.727845587825712, details={'was_impossible': False}),\n",
       " Prediction(uid=50, iid=845, r_ui=4.0, est=3.872108921151474, details={'was_impossible': False}),\n",
       " Prediction(uid=50, iid=846, r_ui=4.0, est=3.415476561169548, details={'was_impossible': False}),\n",
       " Prediction(uid=50, iid=847, r_ui=4.0, est=3.6501183817541643, details={'was_impossible': False}),\n",
       " Prediction(uid=50, iid=848, r_ui=4.0, est=3.615830918396325, details={'was_impossible': False}),\n",
       " Prediction(uid=50, iid=849, r_ui=4.0, est=3.6074685691521116, details={'was_impossible': False}),\n",
       " Prediction(uid=50, iid=850, r_ui=4.0, est=3.86217420536818, details={'was_impossible': False}),\n",
       " Prediction(uid=50, iid=851, r_ui=4.0, est=3.5625624405345793, details={'was_impossible': False}),\n",
       " Prediction(uid=50, iid=852, r_ui=4.0, est=3.7066843301537253, details={'was_impossible': False}),\n",
       " Prediction(uid=50, iid=853, r_ui=4.0, est=3.358003420703586, details={'was_impossible': False}),\n",
       " Prediction(uid=50, iid=854, r_ui=4.0, est=3.768818683447362, details={'was_impossible': False}),\n",
       " Prediction(uid=50, iid=855, r_ui=4.0, est=3.5279230662914287, details={'was_impossible': False}),\n",
       " Prediction(uid=50, iid=856, r_ui=4.0, est=3.679290901611962, details={'was_impossible': False}),\n",
       " Prediction(uid=50, iid=857, r_ui=4.0, est=3.567069300317662, details={'was_impossible': False}),\n",
       " Prediction(uid=50, iid=858, r_ui=4.0, est=3.477805001191484, details={'was_impossible': False}),\n",
       " Prediction(uid=50, iid=859, r_ui=4.0, est=3.4748080352727033, details={'was_impossible': False}),\n",
       " Prediction(uid=50, iid=860, r_ui=4.0, est=3.53531999573758, details={'was_impossible': False}),\n",
       " Prediction(uid=50, iid=861, r_ui=4.0, est=3.387255144540228, details={'was_impossible': False}),\n",
       " Prediction(uid=50, iid=862, r_ui=4.0, est=3.1587340651422817, details={'was_impossible': False}),\n",
       " Prediction(uid=50, iid=863, r_ui=4.0, est=3.5736307421303426, details={'was_impossible': False}),\n",
       " Prediction(uid=50, iid=864, r_ui=4.0, est=3.3687099393730024, details={'was_impossible': False}),\n",
       " Prediction(uid=50, iid=865, r_ui=4.0, est=3.7320921524032764, details={'was_impossible': False}),\n",
       " Prediction(uid=50, iid=866, r_ui=4.0, est=3.500534109753084, details={'was_impossible': False}),\n",
       " Prediction(uid=50, iid=867, r_ui=4.0, est=3.7715363114001903, details={'was_impossible': False}),\n",
       " Prediction(uid=50, iid=868, r_ui=4.0, est=3.620420658421015, details={'was_impossible': False}),\n",
       " Prediction(uid=50, iid=869, r_ui=4.0, est=3.5334820130759588, details={'was_impossible': False}),\n",
       " Prediction(uid=50, iid=870, r_ui=4.0, est=3.9292107428374923, details={'was_impossible': False}),\n",
       " Prediction(uid=50, iid=871, r_ui=4.0, est=3.397543131362527, details={'was_impossible': False}),\n",
       " Prediction(uid=50, iid=872, r_ui=4.0, est=3.250402231279309, details={'was_impossible': False}),\n",
       " Prediction(uid=50, iid=873, r_ui=4.0, est=3.5356218918452558, details={'was_impossible': False}),\n",
       " Prediction(uid=50, iid=874, r_ui=4.0, est=3.3073200106601672, details={'was_impossible': False}),\n",
       " Prediction(uid=50, iid=875, r_ui=4.0, est=3.2836890949536928, details={'was_impossible': False}),\n",
       " Prediction(uid=50, iid=876, r_ui=4.0, est=3.765726420622434, details={'was_impossible': False}),\n",
       " Prediction(uid=50, iid=877, r_ui=4.0, est=3.5089019974617037, details={'was_impossible': False}),\n",
       " Prediction(uid=50, iid=878, r_ui=4.0, est=3.600399268300924, details={'was_impossible': False}),\n",
       " Prediction(uid=50, iid=879, r_ui=4.0, est=3.2001276531879412, details={'was_impossible': False}),\n",
       " Prediction(uid=50, iid=880, r_ui=4.0, est=3.509872312742362, details={'was_impossible': False}),\n",
       " Prediction(uid=50, iid=881, r_ui=4.0, est=3.4599912211543824, details={'was_impossible': False}),\n",
       " Prediction(uid=50, iid=882, r_ui=4.0, est=3.197028892789974, details={'was_impossible': False}),\n",
       " Prediction(uid=50, iid=883, r_ui=4.0, est=3.787451580631508, details={'was_impossible': False}),\n",
       " Prediction(uid=50, iid=884, r_ui=4.0, est=3.305308972244654, details={'was_impossible': False}),\n",
       " Prediction(uid=50, iid=885, r_ui=4.0, est=3.5959824519876133, details={'was_impossible': False}),\n",
       " Prediction(uid=50, iid=886, r_ui=4.0, est=3.5474726924591007, details={'was_impossible': False}),\n",
       " Prediction(uid=50, iid=887, r_ui=4.0, est=3.8501751216208198, details={'was_impossible': False}),\n",
       " Prediction(uid=50, iid=888, r_ui=4.0, est=3.795763165573017, details={'was_impossible': False}),\n",
       " Prediction(uid=50, iid=889, r_ui=4.0, est=3.4555103907112015, details={'was_impossible': False}),\n",
       " Prediction(uid=50, iid=890, r_ui=4.0, est=3.5992936399706092, details={'was_impossible': False}),\n",
       " Prediction(uid=50, iid=891, r_ui=4.0, est=3.7769238416190043, details={'was_impossible': False}),\n",
       " Prediction(uid=50, iid=892, r_ui=4.0, est=3.5355863726353203, details={'was_impossible': False}),\n",
       " Prediction(uid=50, iid=893, r_ui=4.0, est=3.7573200784522074, details={'was_impossible': False}),\n",
       " Prediction(uid=50, iid=894, r_ui=4.0, est=3.7977701441250984, details={'was_impossible': False}),\n",
       " Prediction(uid=50, iid=895, r_ui=4.0, est=3.410077615727852, details={'was_impossible': False}),\n",
       " Prediction(uid=50, iid=896, r_ui=4.0, est=3.43575754943234, details={'was_impossible': False}),\n",
       " Prediction(uid=50, iid=897, r_ui=4.0, est=3.268888935919919, details={'was_impossible': False}),\n",
       " Prediction(uid=50, iid=898, r_ui=4.0, est=3.638559571039079, details={'was_impossible': False}),\n",
       " Prediction(uid=50, iid=899, r_ui=4.0, est=3.718158185235368, details={'was_impossible': False}),\n",
       " Prediction(uid=50, iid=900, r_ui=4.0, est=3.6985632653050553, details={'was_impossible': False}),\n",
       " Prediction(uid=50, iid=901, r_ui=4.0, est=3.5849345599727416, details={'was_impossible': False}),\n",
       " Prediction(uid=50, iid=902, r_ui=4.0, est=3.540275520248513, details={'was_impossible': False}),\n",
       " Prediction(uid=50, iid=903, r_ui=4.0, est=3.487884222377494, details={'was_impossible': False}),\n",
       " Prediction(uid=50, iid=904, r_ui=4.0, est=3.4884138288509154, details={'was_impossible': False}),\n",
       " Prediction(uid=50, iid=905, r_ui=4.0, est=3.5160052743604218, details={'was_impossible': False}),\n",
       " Prediction(uid=50, iid=906, r_ui=4.0, est=3.3828520445685273, details={'was_impossible': False}),\n",
       " Prediction(uid=50, iid=907, r_ui=4.0, est=3.3707118874859523, details={'was_impossible': False}),\n",
       " Prediction(uid=50, iid=908, r_ui=4.0, est=3.5848432198649616, details={'was_impossible': False}),\n",
       " Prediction(uid=50, iid=909, r_ui=4.0, est=3.176746827195279, details={'was_impossible': False}),\n",
       " Prediction(uid=50, iid=910, r_ui=4.0, est=3.6213098686580465, details={'was_impossible': False}),\n",
       " Prediction(uid=50, iid=911, r_ui=4.0, est=3.5100741881587587, details={'was_impossible': False}),\n",
       " Prediction(uid=50, iid=912, r_ui=4.0, est=3.7420557259046943, details={'was_impossible': False}),\n",
       " Prediction(uid=50, iid=913, r_ui=4.0, est=3.575479762896092, details={'was_impossible': False}),\n",
       " Prediction(uid=50, iid=914, r_ui=4.0, est=3.6053194630471967, details={'was_impossible': False}),\n",
       " Prediction(uid=50, iid=915, r_ui=4.0, est=3.764925983777797, details={'was_impossible': False}),\n",
       " Prediction(uid=50, iid=916, r_ui=4.0, est=3.6003915674982943, details={'was_impossible': False}),\n",
       " Prediction(uid=50, iid=917, r_ui=4.0, est=3.7684659878793365, details={'was_impossible': False}),\n",
       " Prediction(uid=50, iid=918, r_ui=4.0, est=3.906260332438133, details={'was_impossible': False}),\n",
       " Prediction(uid=50, iid=919, r_ui=4.0, est=3.3695260019981803, details={'was_impossible': False}),\n",
       " Prediction(uid=50, iid=920, r_ui=4.0, est=3.5550332894884944, details={'was_impossible': False}),\n",
       " Prediction(uid=50, iid=921, r_ui=4.0, est=3.496970829689822, details={'was_impossible': False}),\n",
       " Prediction(uid=50, iid=922, r_ui=4.0, est=3.84929558581711, details={'was_impossible': False}),\n",
       " Prediction(uid=50, iid=923, r_ui=4.0, est=2.937929493892646, details={'was_impossible': False}),\n",
       " Prediction(uid=50, iid=924, r_ui=4.0, est=3.349751238796209, details={'was_impossible': False}),\n",
       " Prediction(uid=50, iid=925, r_ui=4.0, est=3.23335018497959, details={'was_impossible': False}),\n",
       " Prediction(uid=50, iid=926, r_ui=4.0, est=3.492458090325086, details={'was_impossible': False}),\n",
       " Prediction(uid=50, iid=927, r_ui=4.0, est=3.33188051350719, details={'was_impossible': False}),\n",
       " Prediction(uid=50, iid=928, r_ui=4.0, est=3.321783307374083, details={'was_impossible': False}),\n",
       " Prediction(uid=50, iid=929, r_ui=4.0, est=3.34115014737955, details={'was_impossible': False}),\n",
       " Prediction(uid=50, iid=930, r_ui=4.0, est=3.200938958342812, details={'was_impossible': False}),\n",
       " Prediction(uid=50, iid=931, r_ui=4.0, est=3.5551970921587417, details={'was_impossible': False}),\n",
       " Prediction(uid=50, iid=932, r_ui=4.0, est=3.3253838355280108, details={'was_impossible': False}),\n",
       " Prediction(uid=50, iid=933, r_ui=4.0, est=3.1849479223944184, details={'was_impossible': False}),\n",
       " Prediction(uid=50, iid=934, r_ui=4.0, est=3.249284968250486, details={'was_impossible': False}),\n",
       " Prediction(uid=50, iid=935, r_ui=4.0, est=3.233640004370918, details={'was_impossible': False}),\n",
       " Prediction(uid=50, iid=936, r_ui=4.0, est=3.7425242969890276, details={'was_impossible': False}),\n",
       " Prediction(uid=50, iid=937, r_ui=4.0, est=3.862769920866382, details={'was_impossible': False}),\n",
       " Prediction(uid=50, iid=938, r_ui=4.0, est=3.5125719333832115, details={'was_impossible': False}),\n",
       " Prediction(uid=50, iid=939, r_ui=4.0, est=3.7880635995054632, details={'was_impossible': False}),\n",
       " Prediction(uid=50, iid=940, r_ui=4.0, est=3.9343093611484274, details={'was_impossible': False}),\n",
       " Prediction(uid=50, iid=941, r_ui=4.0, est=3.075823157929867, details={'was_impossible': False}),\n",
       " Prediction(uid=50, iid=942, r_ui=4.0, est=3.548708215810435, details={'was_impossible': False}),\n",
       " Prediction(uid=50, iid=943, r_ui=4.0, est=3.4408218416662804, details={'was_impossible': False}),\n",
       " Prediction(uid=50, iid=944, r_ui=4.0, est=3.3795622391592817, details={'was_impossible': False}),\n",
       " Prediction(uid=50, iid=945, r_ui=4.0, est=3.4410729194932324, details={'was_impossible': False}),\n",
       " Prediction(uid=50, iid=946, r_ui=4.0, est=3.4780085598295396, details={'was_impossible': False}),\n",
       " Prediction(uid=50, iid=947, r_ui=4.0, est=3.382221043067142, details={'was_impossible': False}),\n",
       " Prediction(uid=50, iid=948, r_ui=4.0, est=3.811297851449629, details={'was_impossible': False}),\n",
       " Prediction(uid=50, iid=949, r_ui=4.0, est=3.3953735047687212, details={'was_impossible': False}),\n",
       " Prediction(uid=50, iid=950, r_ui=4.0, est=3.536699817351731, details={'was_impossible': False}),\n",
       " Prediction(uid=50, iid=951, r_ui=4.0, est=2.9901954850422183, details={'was_impossible': False}),\n",
       " Prediction(uid=50, iid=952, r_ui=4.0, est=3.6723080597287203, details={'was_impossible': False}),\n",
       " Prediction(uid=50, iid=953, r_ui=4.0, est=3.590558412846607, details={'was_impossible': False}),\n",
       " Prediction(uid=50, iid=954, r_ui=4.0, est=3.4428758208526538, details={'was_impossible': False}),\n",
       " Prediction(uid=50, iid=955, r_ui=4.0, est=3.2826302953768565, details={'was_impossible': False}),\n",
       " Prediction(uid=50, iid=956, r_ui=4.0, est=3.5500626196731826, details={'was_impossible': False}),\n",
       " Prediction(uid=50, iid=957, r_ui=4.0, est=3.631993880342782, details={'was_impossible': False}),\n",
       " Prediction(uid=50, iid=958, r_ui=4.0, est=3.5811994583437965, details={'was_impossible': False}),\n",
       " Prediction(uid=50, iid=959, r_ui=4.0, est=3.5518021372876034, details={'was_impossible': False}),\n",
       " Prediction(uid=50, iid=960, r_ui=4.0, est=3.3784664507419633, details={'was_impossible': False}),\n",
       " Prediction(uid=50, iid=961, r_ui=4.0, est=3.6426048924734666, details={'was_impossible': False}),\n",
       " Prediction(uid=50, iid=962, r_ui=4.0, est=3.6501375233650752, details={'was_impossible': False}),\n",
       " Prediction(uid=50, iid=963, r_ui=4.0, est=3.6191139034728215, details={'was_impossible': False}),\n",
       " Prediction(uid=50, iid=964, r_ui=4.0, est=3.4969633118551307, details={'was_impossible': False}),\n",
       " Prediction(uid=50, iid=965, r_ui=4.0, est=3.4777076839547507, details={'was_impossible': False}),\n",
       " Prediction(uid=50, iid=966, r_ui=4.0, est=3.50713406215588, details={'was_impossible': False}),\n",
       " Prediction(uid=50, iid=967, r_ui=4.0, est=3.3514683964521366, details={'was_impossible': False}),\n",
       " Prediction(uid=50, iid=968, r_ui=4.0, est=3.7479076028835325, details={'was_impossible': False}),\n",
       " Prediction(uid=50, iid=969, r_ui=4.0, est=3.5178530132648556, details={'was_impossible': False}),\n",
       " Prediction(uid=50, iid=970, r_ui=4.0, est=3.505646885730504, details={'was_impossible': False}),\n",
       " Prediction(uid=50, iid=971, r_ui=4.0, est=3.5358161552836047, details={'was_impossible': False}),\n",
       " Prediction(uid=50, iid=972, r_ui=4.0, est=3.602870459429207, details={'was_impossible': False}),\n",
       " Prediction(uid=50, iid=973, r_ui=4.0, est=3.5103350576254804, details={'was_impossible': False}),\n",
       " Prediction(uid=50, iid=974, r_ui=4.0, est=3.4726077791284293, details={'was_impossible': False}),\n",
       " Prediction(uid=50, iid=975, r_ui=4.0, est=3.3897306923967476, details={'was_impossible': False}),\n",
       " Prediction(uid=50, iid=976, r_ui=4.0, est=3.658063951235798, details={'was_impossible': False}),\n",
       " Prediction(uid=50, iid=977, r_ui=4.0, est=3.7804372413029137, details={'was_impossible': False}),\n",
       " Prediction(uid=50, iid=978, r_ui=4.0, est=3.1784591947200673, details={'was_impossible': False}),\n",
       " Prediction(uid=50, iid=979, r_ui=4.0, est=3.597309635543333, details={'was_impossible': False}),\n",
       " Prediction(uid=50, iid=980, r_ui=4.0, est=3.517457593122134, details={'was_impossible': False}),\n",
       " Prediction(uid=50, iid=981, r_ui=4.0, est=3.6072294630497943, details={'was_impossible': False}),\n",
       " Prediction(uid=50, iid=982, r_ui=4.0, est=3.282942182917864, details={'was_impossible': False}),\n",
       " Prediction(uid=50, iid=983, r_ui=4.0, est=3.288854542133527, details={'was_impossible': False}),\n",
       " Prediction(uid=50, iid=984, r_ui=4.0, est=3.449084332436293, details={'was_impossible': False}),\n",
       " Prediction(uid=50, iid=985, r_ui=4.0, est=3.266375154027231, details={'was_impossible': False}),\n",
       " Prediction(uid=50, iid=986, r_ui=4.0, est=3.4898699614171975, details={'was_impossible': False}),\n",
       " Prediction(uid=50, iid=987, r_ui=4.0, est=3.583110618249338, details={'was_impossible': False}),\n",
       " Prediction(uid=50, iid=988, r_ui=4.0, est=3.494615733402802, details={'was_impossible': False}),\n",
       " Prediction(uid=50, iid=989, r_ui=4.0, est=3.244903605363446, details={'was_impossible': False}),\n",
       " Prediction(uid=50, iid=990, r_ui=4.0, est=3.4138374018252367, details={'was_impossible': False}),\n",
       " Prediction(uid=50, iid=991, r_ui=4.0, est=3.1771284237150232, details={'was_impossible': False}),\n",
       " Prediction(uid=50, iid=992, r_ui=4.0, est=3.6040692343536573, details={'was_impossible': False}),\n",
       " Prediction(uid=50, iid=993, r_ui=4.0, est=3.2072016305757076, details={'was_impossible': False}),\n",
       " Prediction(uid=50, iid=994, r_ui=4.0, est=3.7011309957178717, details={'was_impossible': False}),\n",
       " Prediction(uid=50, iid=995, r_ui=4.0, est=3.4371525444776063, details={'was_impossible': False}),\n",
       " Prediction(uid=50, iid=996, r_ui=4.0, est=3.4486772182590166, details={'was_impossible': False}),\n",
       " Prediction(uid=50, iid=997, r_ui=4.0, est=3.527755015944023, details={'was_impossible': False}),\n",
       " Prediction(uid=50, iid=998, r_ui=4.0, est=3.392455933658317, details={'was_impossible': False}),\n",
       " Prediction(uid=50, iid=999, r_ui=4.0, est=3.6655639191871607, details={'was_impossible': False}),\n",
       " Prediction(uid=50, iid=1000, r_ui=4.0, est=3.623900500428917, details={'was_impossible': False}),\n",
       " Prediction(uid=50, iid=1001, r_ui=4.0, est=3.8731757213887934, details={'was_impossible': False}),\n",
       " Prediction(uid=50, iid=1002, r_ui=4.0, est=3.615270655695438, details={'was_impossible': False}),\n",
       " Prediction(uid=50, iid=1003, r_ui=4.0, est=2.890259902365114, details={'was_impossible': False}),\n",
       " Prediction(uid=50, iid=1004, r_ui=4.0, est=3.499201830452218, details={'was_impossible': False}),\n",
       " Prediction(uid=50, iid=1005, r_ui=4.0, est=3.435709268527578, details={'was_impossible': False}),\n",
       " Prediction(uid=50, iid=1006, r_ui=4.0, est=3.355890657083842, details={'was_impossible': False}),\n",
       " Prediction(uid=50, iid=1007, r_ui=4.0, est=3.450815209986095, details={'was_impossible': False}),\n",
       " Prediction(uid=50, iid=1008, r_ui=4.0, est=3.25721282339858, details={'was_impossible': False}),\n",
       " Prediction(uid=50, iid=1009, r_ui=4.0, est=3.1793918995615047, details={'was_impossible': False}),\n",
       " Prediction(uid=50, iid=1010, r_ui=4.0, est=3.662942080581045, details={'was_impossible': False}),\n",
       " Prediction(uid=50, iid=1011, r_ui=4.0, est=3.677971188720006, details={'was_impossible': False}),\n",
       " Prediction(uid=50, iid=1012, r_ui=4.0, est=3.5066625941768343, details={'was_impossible': False}),\n",
       " Prediction(uid=50, iid=1013, r_ui=4.0, est=3.5468421586040213, details={'was_impossible': False}),\n",
       " Prediction(uid=50, iid=1014, r_ui=4.0, est=3.551325105305869, details={'was_impossible': False}),\n",
       " Prediction(uid=50, iid=1015, r_ui=4.0, est=3.73409225394001, details={'was_impossible': False}),\n",
       " Prediction(uid=50, iid=1016, r_ui=4.0, est=3.4079799435221028, details={'was_impossible': False}),\n",
       " Prediction(uid=50, iid=1017, r_ui=4.0, est=3.3665151604359522, details={'was_impossible': False}),\n",
       " Prediction(uid=50, iid=1018, r_ui=4.0, est=3.574373889942982, details={'was_impossible': False}),\n",
       " Prediction(uid=50, iid=1019, r_ui=4.0, est=3.457354019810243, details={'was_impossible': False}),\n",
       " Prediction(uid=50, iid=1020, r_ui=4.0, est=3.393504071446298, details={'was_impossible': False}),\n",
       " Prediction(uid=50, iid=1021, r_ui=4.0, est=3.350343443404691, details={'was_impossible': False}),\n",
       " Prediction(uid=50, iid=1022, r_ui=4.0, est=3.3574846640297844, details={'was_impossible': False}),\n",
       " Prediction(uid=50, iid=1023, r_ui=4.0, est=3.500529482811791, details={'was_impossible': False}),\n",
       " Prediction(uid=50, iid=1024, r_ui=4.0, est=3.578082705498998, details={'was_impossible': False}),\n",
       " Prediction(uid=50, iid=1025, r_ui=4.0, est=3.6148480409142927, details={'was_impossible': False}),\n",
       " Prediction(uid=50, iid=1026, r_ui=4.0, est=3.595750243986475, details={'was_impossible': False}),\n",
       " Prediction(uid=50, iid=1027, r_ui=4.0, est=3.785634981048653, details={'was_impossible': False}),\n",
       " Prediction(uid=50, iid=1028, r_ui=4.0, est=3.2269069211011785, details={'was_impossible': False}),\n",
       " Prediction(uid=50, iid=1029, r_ui=4.0, est=3.8081042147593376, details={'was_impossible': False}),\n",
       " Prediction(uid=50, iid=1030, r_ui=4.0, est=3.568071072888993, details={'was_impossible': False}),\n",
       " Prediction(uid=50, iid=1031, r_ui=4.0, est=3.596284306038393, details={'was_impossible': False}),\n",
       " Prediction(uid=50, iid=1032, r_ui=4.0, est=3.7437571280632644, details={'was_impossible': False}),\n",
       " Prediction(uid=50, iid=1033, r_ui=4.0, est=3.5219508735260203, details={'was_impossible': False}),\n",
       " Prediction(uid=50, iid=1034, r_ui=4.0, est=3.3496859119454814, details={'was_impossible': False}),\n",
       " Prediction(uid=50, iid=1035, r_ui=4.0, est=3.5911989847988655, details={'was_impossible': False}),\n",
       " Prediction(uid=50, iid=1036, r_ui=4.0, est=3.7268833759803464, details={'was_impossible': False}),\n",
       " Prediction(uid=50, iid=1037, r_ui=4.0, est=3.2820793101139287, details={'was_impossible': False}),\n",
       " Prediction(uid=50, iid=1038, r_ui=4.0, est=3.78249743367847, details={'was_impossible': False}),\n",
       " Prediction(uid=50, iid=1039, r_ui=4.0, est=3.5942351844292997, details={'was_impossible': False}),\n",
       " ...]"
      ]
     },
     "execution_count": 41,
     "metadata": {},
     "output_type": "execute_result"
    }
   ],
   "source": [
    "pred"
   ]
  },
  {
   "cell_type": "code",
   "execution_count": 45,
   "metadata": {},
   "outputs": [],
   "source": [
    "preds_rating = np.array([rate.est for rate in pred])"
   ]
  },
  {
   "cell_type": "code",
   "execution_count": 46,
   "metadata": {},
   "outputs": [
    {
     "data": {
      "text/plain": [
       "53"
      ]
     },
     "execution_count": 46,
     "metadata": {},
     "output_type": "execute_result"
    }
   ],
   "source": [
    "preds_rating.argmax()"
   ]
  },
  {
   "cell_type": "code",
   "execution_count": 47,
   "metadata": {},
   "outputs": [
    {
     "data": {
      "text/plain": [
       "Prediction(uid=50, iid=68, r_ui=4.0, est=4, details={'was_impossible': False})"
      ]
     },
     "execution_count": 47,
     "metadata": {},
     "output_type": "execute_result"
    }
   ],
   "source": [
    "pred[53]"
   ]
  },
  {
   "cell_type": "code",
   "execution_count": 49,
   "metadata": {},
   "outputs": [
    {
     "name": "stdout",
     "output_type": "stream",
     "text": [
      "{'lr_all': 0.01, 'reg_all': 0.1}\n"
     ]
    }
   ],
   "source": [
    "param_grid = {'lr_all':[0.001, 0.01], 'reg_all':[0.1,0.5]}\n",
    "gs = surprise.model_selection.GridSearchCV(surprise.SVDpp,param_grid, measures=['rmse', 'mae'], cv=3)\n",
    "gs.fit(data)\n",
    "print(gs.best_params['rmse'])"
   ]
  },
  {
   "cell_type": "code",
   "execution_count": 50,
   "metadata": {},
   "outputs": [
    {
     "name": "stdout",
     "output_type": "stream",
     "text": [
      "Evaluating RMSE, MAE of algorithm SVDpp on 5 split(s).\n",
      "\n",
      "                  Fold 1  Fold 2  Fold 3  Fold 4  Fold 5  Mean    Std     \n",
      "RMSE (testset)    0.8029  0.7871  0.7968  0.8160  0.7938  0.7993  0.0098  \n",
      "MAE (testset)     0.6203  0.6072  0.6151  0.6307  0.6135  0.6174  0.0079  \n",
      "Fit time          23.36   23.40   23.68   24.48   23.31   23.65   0.44    \n",
      "Test time         0.57    0.57    0.57    0.67    0.55    0.59    0.04    \n"
     ]
    }
   ],
   "source": [
    "alg = surprise.SVDpp(lr_all = 0.01 , reg_all=0.1)\n",
    "output = surprise.model_selection.cross_validate(alg, data,verbose=True)"
   ]
  },
  {
   "cell_type": "code",
   "execution_count": 22,
   "metadata": {},
   "outputs": [
    {
     "data": {
      "text/html": [
       "<div>\n",
       "<style scoped>\n",
       "    .dataframe tbody tr th:only-of-type {\n",
       "        vertical-align: middle;\n",
       "    }\n",
       "\n",
       "    .dataframe tbody tr th {\n",
       "        vertical-align: top;\n",
       "    }\n",
       "\n",
       "    .dataframe thead th {\n",
       "        text-align: right;\n",
       "    }\n",
       "</style>\n",
       "<table border=\"1\" class=\"dataframe\">\n",
       "  <thead>\n",
       "    <tr style=\"text-align: right;\">\n",
       "      <th></th>\n",
       "      <th>uid</th>\n",
       "      <th>iid</th>\n",
       "      <th>rate</th>\n",
       "    </tr>\n",
       "  </thead>\n",
       "  <tbody>\n",
       "    <tr>\n",
       "      <th>0</th>\n",
       "      <td>1</td>\n",
       "      <td>1</td>\n",
       "      <td>2.0</td>\n",
       "    </tr>\n",
       "    <tr>\n",
       "      <th>1</th>\n",
       "      <td>1</td>\n",
       "      <td>2</td>\n",
       "      <td>4.0</td>\n",
       "    </tr>\n",
       "    <tr>\n",
       "      <th>2</th>\n",
       "      <td>1</td>\n",
       "      <td>3</td>\n",
       "      <td>3.5</td>\n",
       "    </tr>\n",
       "    <tr>\n",
       "      <th>3</th>\n",
       "      <td>1</td>\n",
       "      <td>4</td>\n",
       "      <td>3.0</td>\n",
       "    </tr>\n",
       "    <tr>\n",
       "      <th>4</th>\n",
       "      <td>1</td>\n",
       "      <td>5</td>\n",
       "      <td>4.0</td>\n",
       "    </tr>\n",
       "  </tbody>\n",
       "</table>\n",
       "</div>"
      ],
      "text/plain": [
       "   uid  iid  rate\n",
       "0    1    1   2.0\n",
       "1    1    2   4.0\n",
       "2    1    3   3.5\n",
       "3    1    4   3.0\n",
       "4    1    5   4.0"
      ]
     },
     "execution_count": 22,
     "metadata": {},
     "output_type": "execute_result"
    }
   ],
   "source": [
    "dataset.head()"
   ]
  },
  {
   "cell_type": "code",
   "execution_count": 29,
   "metadata": {},
   "outputs": [
    {
     "data": {
      "text/plain": [
       "0           1\n",
       "1           1\n",
       "2           1\n",
       "3           1\n",
       "4           1\n",
       "5           1\n",
       "6           1\n",
       "7           1\n",
       "8           1\n",
       "9           1\n",
       "10          1\n",
       "11          1\n",
       "12          2\n",
       "13          3\n",
       "14          3\n",
       "15          3\n",
       "16          3\n",
       "17          3\n",
       "18          3\n",
       "19          3\n",
       "20          3\n",
       "21          3\n",
       "22          3\n",
       "23          3\n",
       "24          3\n",
       "25          3\n",
       "26          3\n",
       "27          3\n",
       "28          3\n",
       "29          3\n",
       "         ... \n",
       "35467    1507\n",
       "35468    1508\n",
       "35469    1508\n",
       "35470    1508\n",
       "35471    1508\n",
       "35472    1508\n",
       "35473    1508\n",
       "35474    1508\n",
       "35475    1508\n",
       "35476    1508\n",
       "35477    1508\n",
       "35478    1508\n",
       "35479    1508\n",
       "35480    1508\n",
       "35481    1508\n",
       "35482    1508\n",
       "35483    1508\n",
       "35484    1508\n",
       "35485    1508\n",
       "35486    1508\n",
       "35487    1508\n",
       "35488    1508\n",
       "35489    1508\n",
       "35490    1508\n",
       "35491    1508\n",
       "35492    1508\n",
       "35493    1508\n",
       "35494    1508\n",
       "35495    1508\n",
       "35496    1508\n",
       "Name: uid, Length: 35497, dtype: int64"
      ]
     },
     "execution_count": 29,
     "metadata": {},
     "output_type": "execute_result"
    }
   ],
   "source": []
  },
  {
   "cell_type": "code",
   "execution_count": 2,
   "metadata": {},
   "outputs": [],
   "source": [
    "import numpy as np\n",
    "X = np.array([[1, 1], [2, 1], [3, 1.2], [4, 1], [5, 0.8], [6, 1]])\n",
    "from sklearn.decomposition import NMF\n",
    "model = NMF(n_components=2, init='random', random_state=0)\n",
    "W = model.fit_transform(X)\n",
    "H = model.components_"
   ]
  },
  {
   "cell_type": "code",
   "execution_count": 3,
   "metadata": {},
   "outputs": [
    {
     "data": {
      "text/plain": [
       "array([[1. , 1. ],\n",
       "       [2. , 1. ],\n",
       "       [3. , 1.2],\n",
       "       [4. , 1. ],\n",
       "       [5. , 0.8],\n",
       "       [6. , 1. ]])"
      ]
     },
     "execution_count": 3,
     "metadata": {},
     "output_type": "execute_result"
    }
   ],
   "source": [
    "X"
   ]
  },
  {
   "cell_type": "code",
   "execution_count": 4,
   "metadata": {},
   "outputs": [
    {
     "data": {
      "text/plain": [
       "array([[0.        , 0.46880684],\n",
       "       [0.55699523, 0.3894146 ],\n",
       "       [1.00331638, 0.41925352],\n",
       "       [1.6733999 , 0.22926926],\n",
       "       [2.34349311, 0.03927954],\n",
       "       [2.78981512, 0.06911798]])"
      ]
     },
     "execution_count": 4,
     "metadata": {},
     "output_type": "execute_result"
    }
   ],
   "source": [
    "W"
   ]
  },
  {
   "cell_type": "code",
   "execution_count": 5,
   "metadata": {},
   "outputs": [
    {
     "data": {
      "text/plain": [
       "array([[2.09783018, 0.30560234],\n",
       "       [2.13443044, 2.13171694]])"
      ]
     },
     "execution_count": 5,
     "metadata": {},
     "output_type": "execute_result"
    }
   ],
   "source": [
    "H"
   ]
  },
  {
   "cell_type": "code",
   "execution_count": 8,
   "metadata": {},
   "outputs": [
    {
     "data": {
      "text/plain": [
       "array([[1.00063558, 0.99936347],\n",
       "       [1.99965977, 1.00034074],\n",
       "       [2.99965485, 1.20034566],\n",
       "       [3.9998681 , 1.0001321 ],\n",
       "       [5.00009002, 0.79990984],\n",
       "       [6.00008587, 0.999914  ]])"
      ]
     },
     "execution_count": 8,
     "metadata": {},
     "output_type": "execute_result"
    }
   ],
   "source": [
    "W.dot(H)"
   ]
  },
  {
   "cell_type": "code",
   "execution_count": 10,
   "metadata": {},
   "outputs": [
    {
     "data": {
      "text/plain": [
       "1.9996597796304654"
      ]
     },
     "execution_count": 10,
     "metadata": {},
     "output_type": "execute_result"
    }
   ],
   "source": [
    "0.55699523*2.09783018 + 0.3894146 *2.13443044"
   ]
  },
  {
   "cell_type": "code",
   "execution_count": 1,
   "metadata": {},
   "outputs": [
    {
     "name": "stdout",
     "output_type": "stream",
     "text": [
      "[[1 0 0 1 0 0]\n",
      " [0 0 2 0 0 1]\n",
      " [0 0 0 2 0 0]]\n",
      "  (0, 0)\t1\n",
      "  (0, 3)\t1\n",
      "  (1, 2)\t2\n",
      "  (1, 5)\t1\n",
      "  (2, 3)\t2\n",
      "[[1 0 0 1 0 0]\n",
      " [0 0 2 0 0 1]\n",
      " [0 0 0 2 0 0]]\n"
     ]
    }
   ],
   "source": [
    "# dense to sparse\n",
    "from numpy import array\n",
    "from scipy.sparse import csr_matrix\n",
    "# create dense matrix\n",
    "A = array([[1, 0, 0, 1, 0, 0], [0, 0, 2, 0, 0, 1], [0, 0, 0, 2, 0, 0]])\n",
    "print(A)\n",
    "# convert to sparse matrix (CSR method)\n",
    "S = csr_matrix(A)\n",
    "print(S)\n",
    "# reconstruct dense matrix\n",
    "B = S.todense()\n",
    "print(B)"
   ]
  },
  {
   "cell_type": "code",
   "execution_count": 14,
   "metadata": {},
   "outputs": [
    {
     "name": "stdout",
     "output_type": "stream",
     "text": [
      "  (0, 0)\t1\n",
      "  (0, 3)\t1\n",
      "  (1, 2)\t2\n",
      "  (1, 5)\t1\n",
      "  (2, 3)\t2\n"
     ]
    }
   ],
   "source": [
    "print(S)"
   ]
  },
  {
   "cell_type": "code",
   "execution_count": 15,
   "metadata": {},
   "outputs": [
    {
     "name": "stderr",
     "output_type": "stream",
     "text": [
      "E:\\anaconda3\\lib\\site-packages\\ipykernel_launcher.py:1: SparseEfficiencyWarning: Changing the sparsity structure of a csr_matrix is expensive. lil_matrix is more efficient.\n",
      "  \"\"\"Entry point for launching an IPython kernel.\n"
     ]
    }
   ],
   "source": [
    "S[(0,1)] =2 "
   ]
  },
  {
   "cell_type": "code",
   "execution_count": 17,
   "metadata": {},
   "outputs": [
    {
     "name": "stdout",
     "output_type": "stream",
     "text": [
      "  (0, 0)\t1\n",
      "  (0, 1)\t2\n",
      "  (0, 3)\t1\n",
      "  (1, 2)\t2\n",
      "  (1, 5)\t1\n",
      "  (2, 3)\t2\n"
     ]
    }
   ],
   "source": [
    "print(S)"
   ]
  },
  {
   "cell_type": "code",
   "execution_count": 20,
   "metadata": {},
   "outputs": [],
   "source": [
    "row = np.array([0, 0, 1, 2, 2, 2])\n",
    "col = np.array([0, 2, 2, 0, 1, 2])\n",
    "data = np.array([1, 2, 3, 4, 5, 6])\n",
    "a = csr_matrix((data, (row, col)), shape=(3, 3))"
   ]
  },
  {
   "cell_type": "code",
   "execution_count": 21,
   "metadata": {},
   "outputs": [
    {
     "data": {
      "text/plain": [
       "array([1, 2, 3, 4, 5, 6], dtype=int32)"
      ]
     },
     "execution_count": 21,
     "metadata": {},
     "output_type": "execute_result"
    }
   ],
   "source": [
    "a."
   ]
  },
  {
   "cell_type": "code",
   "execution_count": 30,
   "metadata": {},
   "outputs": [
    {
     "data": {
      "text/plain": [
       "array([   1,    1,    1, ..., 1508, 1508, 1508], dtype=int64)"
      ]
     },
     "execution_count": 30,
     "metadata": {},
     "output_type": "execute_result"
    }
   ],
   "source": [
    "np.array(rows)"
   ]
  },
  {
   "cell_type": "code",
   "execution_count": 40,
   "metadata": {},
   "outputs": [],
   "source": [
    "rows = np.array(dataset.uid)\n",
    "clmns = np.array(dataset.iid)\n",
    "dt = np.array(dataset.rate)\n",
    "sp = csr_matrix((dt,(rows, clmns))).toarray()"
   ]
  },
  {
   "cell_type": "code",
   "execution_count": 41,
   "metadata": {},
   "outputs": [
    {
     "data": {
      "text/plain": [
       "array([[0. , 0. , 0. , ..., 0. , 0. , 0. ],\n",
       "       [0. , 2. , 4. , ..., 0. , 0. , 0. ],\n",
       "       [0. , 0. , 0. , ..., 0. , 0. , 0. ],\n",
       "       ...,\n",
       "       [0. , 0. , 0. , ..., 0. , 0. , 0. ],\n",
       "       [0. , 0. , 4. , ..., 0. , 0. , 0. ],\n",
       "       [0. , 1.5, 3. , ..., 0. , 0. , 0. ]])"
      ]
     },
     "execution_count": 41,
     "metadata": {},
     "output_type": "execute_result"
    }
   ],
   "source": [
    "sp"
   ]
  },
  {
   "cell_type": "code",
   "execution_count": 46,
   "metadata": {},
   "outputs": [],
   "source": [
    "import numpy as np\n",
    "from sklearn.decomposition import NMF\n",
    "model = NMF(n_components=20, init='random', random_state=0)\n",
    "W = model.fit_transform(sp)\n",
    "H = model.components_"
   ]
  },
  {
   "cell_type": "code",
   "execution_count": 47,
   "metadata": {},
   "outputs": [
    {
     "data": {
      "text/plain": [
       "(1509, 20)"
      ]
     },
     "execution_count": 47,
     "metadata": {},
     "output_type": "execute_result"
    }
   ],
   "source": [
    "W.shape"
   ]
  },
  {
   "cell_type": "code",
   "execution_count": 48,
   "metadata": {},
   "outputs": [
    {
     "data": {
      "text/plain": [
       "(20, 2072)"
      ]
     },
     "execution_count": 48,
     "metadata": {},
     "output_type": "execute_result"
    }
   ],
   "source": [
    "H.shape"
   ]
  },
  {
   "cell_type": "code",
   "execution_count": 49,
   "metadata": {},
   "outputs": [
    {
     "data": {
      "text/plain": [
       "(1509, 2072)"
      ]
     },
     "execution_count": 49,
     "metadata": {},
     "output_type": "execute_result"
    }
   ],
   "source": [
    "sp.shape"
   ]
  },
  {
   "cell_type": "code",
   "execution_count": 55,
   "metadata": {},
   "outputs": [
    {
     "data": {
      "text/plain": [
       "(1509, 2072)"
      ]
     },
     "execution_count": 55,
     "metadata": {},
     "output_type": "execute_result"
    }
   ],
   "source": [
    "W.dot(H).shape"
   ]
  },
  {
   "cell_type": "code",
   "execution_count": 61,
   "metadata": {},
   "outputs": [],
   "source": [
    "u0 = W[1,:]\n",
    "i0 = H[:,2]"
   ]
  },
  {
   "cell_type": "code",
   "execution_count": 62,
   "metadata": {},
   "outputs": [
    {
     "data": {
      "text/plain": [
       "3.9976127637399967"
      ]
     },
     "execution_count": 62,
     "metadata": {},
     "output_type": "execute_result"
    }
   ],
   "source": [
    "u0.dot(i0)"
   ]
  },
  {
   "cell_type": "code",
   "execution_count": null,
   "metadata": {},
   "outputs": [],
   "source": []
  }
 ],
 "metadata": {
  "kernelspec": {
   "display_name": "Python 3",
   "language": "python",
   "name": "python3"
  },
  "language_info": {
   "codemirror_mode": {
    "name": "ipython",
    "version": 3
   },
   "file_extension": ".py",
   "mimetype": "text/x-python",
   "name": "python",
   "nbconvert_exporter": "python",
   "pygments_lexer": "ipython3",
   "version": "3.7.3"
  }
 },
 "nbformat": 4,
 "nbformat_minor": 2
}
